{
  "nbformat": 4,
  "nbformat_minor": 0,
  "metadata": {
    "kernelspec": {
      "language": "python",
      "display_name": "Python 3",
      "name": "python3"
    },
    "language_info": {
      "name": "python",
      "version": "3.7.10",
      "mimetype": "text/x-python",
      "codemirror_mode": {
        "name": "ipython",
        "version": 3
      },
      "pygments_lexer": "ipython3",
      "nbconvert_exporter": "python",
      "file_extension": ".py"
    },
    "colab": {
      "name": "Feature Extraction and Selection.ipynb",
      "provenance": [],
      "collapsed_sections": [],
      "include_colab_link": true
    }
  },
  "cells": [
    {
      "cell_type": "markdown",
      "metadata": {
        "id": "view-in-github",
        "colab_type": "text"
      },
      "source": [
        "<a href=\"https://github.com/Dummy-Bug/Quora-Question-Pairs/blob/master/Data%20Cleaning/Feature%20Extraction%20and%20Selection.ipynb\" target=\"_parent\"><img src=\"https://colab.research.google.com/assets/colab-badge.svg\" alt=\"Open In Colab\"/></a>"
      ]
    },
    {
      "cell_type": "markdown",
      "metadata": {
        "id": "yZds78FNsScH"
      },
      "source": [
        "# <font color='red'> Exploratory Data Analysis</font>"
      ]
    },
    {
      "cell_type": "code",
      "metadata": {
        "id": "MQX-r8dDjNOA",
        "colab": {
          "base_uri": "https://localhost:8080/"
        },
        "outputId": "a0c56cb7-ae46-4e4a-aaac-6a890cb93315"
      },
      "source": [
        "from google.colab import drive\n",
        "drive.mount('/content/drive')"
      ],
      "execution_count": 1,
      "outputs": [
        {
          "output_type": "stream",
          "name": "stdout",
          "text": [
            "Mounted at /content/drive\n"
          ]
        }
      ]
    },
    {
      "cell_type": "code",
      "metadata": {
        "execution": {
          "iopub.status.busy": "2021-09-11T06:10:28.622625Z",
          "iopub.execute_input": "2021-09-11T06:10:28.622979Z",
          "iopub.status.idle": "2021-09-11T06:10:30.510070Z",
          "shell.execute_reply.started": "2021-09-11T06:10:28.622950Z",
          "shell.execute_reply": "2021-09-11T06:10:30.509007Z"
        },
        "trusted": true,
        "id": "urvOimkCef-Z"
      },
      "source": [
        "import pandas as pd\n",
        "path = '/content/drive/MyDrive/Quora/train.csv'\n",
        "\n",
        "df = pd.read_csv(path)\n",
        "\n",
        "import warnings \n",
        "warnings.filterwarnings('ignore')"
      ],
      "execution_count": 4,
      "outputs": []
    },
    {
      "cell_type": "code",
      "metadata": {
        "execution": {
          "iopub.status.busy": "2021-09-11T06:10:30.511643Z",
          "iopub.execute_input": "2021-09-11T06:10:30.511976Z",
          "iopub.status.idle": "2021-09-11T06:10:30.524239Z",
          "shell.execute_reply.started": "2021-09-11T06:10:30.511946Z",
          "shell.execute_reply": "2021-09-11T06:10:30.523437Z"
        },
        "trusted": true,
        "id": "Gkp1QvFSef-l",
        "colab": {
          "base_uri": "https://localhost:8080/",
          "height": 206
        },
        "outputId": "d6f709bd-9a3d-4a71-e6ac-dbbb08e15182"
      },
      "source": [
        "df.head()"
      ],
      "execution_count": 5,
      "outputs": [
        {
          "output_type": "execute_result",
          "data": {
            "text/html": [
              "<div>\n",
              "<style scoped>\n",
              "    .dataframe tbody tr th:only-of-type {\n",
              "        vertical-align: middle;\n",
              "    }\n",
              "\n",
              "    .dataframe tbody tr th {\n",
              "        vertical-align: top;\n",
              "    }\n",
              "\n",
              "    .dataframe thead th {\n",
              "        text-align: right;\n",
              "    }\n",
              "</style>\n",
              "<table border=\"1\" class=\"dataframe\">\n",
              "  <thead>\n",
              "    <tr style=\"text-align: right;\">\n",
              "      <th></th>\n",
              "      <th>id</th>\n",
              "      <th>qid1</th>\n",
              "      <th>qid2</th>\n",
              "      <th>question1</th>\n",
              "      <th>question2</th>\n",
              "      <th>is_duplicate</th>\n",
              "    </tr>\n",
              "  </thead>\n",
              "  <tbody>\n",
              "    <tr>\n",
              "      <th>0</th>\n",
              "      <td>0</td>\n",
              "      <td>1</td>\n",
              "      <td>2</td>\n",
              "      <td>What is the step by step guide to invest in sh...</td>\n",
              "      <td>What is the step by step guide to invest in sh...</td>\n",
              "      <td>0</td>\n",
              "    </tr>\n",
              "    <tr>\n",
              "      <th>1</th>\n",
              "      <td>1</td>\n",
              "      <td>3</td>\n",
              "      <td>4</td>\n",
              "      <td>What is the story of Kohinoor (Koh-i-Noor) Dia...</td>\n",
              "      <td>What would happen if the Indian government sto...</td>\n",
              "      <td>0</td>\n",
              "    </tr>\n",
              "    <tr>\n",
              "      <th>2</th>\n",
              "      <td>2</td>\n",
              "      <td>5</td>\n",
              "      <td>6</td>\n",
              "      <td>How can I increase the speed of my internet co...</td>\n",
              "      <td>How can Internet speed be increased by hacking...</td>\n",
              "      <td>0</td>\n",
              "    </tr>\n",
              "    <tr>\n",
              "      <th>3</th>\n",
              "      <td>3</td>\n",
              "      <td>7</td>\n",
              "      <td>8</td>\n",
              "      <td>Why am I mentally very lonely? How can I solve...</td>\n",
              "      <td>Find the remainder when [math]23^{24}[/math] i...</td>\n",
              "      <td>0</td>\n",
              "    </tr>\n",
              "    <tr>\n",
              "      <th>4</th>\n",
              "      <td>4</td>\n",
              "      <td>9</td>\n",
              "      <td>10</td>\n",
              "      <td>Which one dissolve in water quikly sugar, salt...</td>\n",
              "      <td>Which fish would survive in salt water?</td>\n",
              "      <td>0</td>\n",
              "    </tr>\n",
              "  </tbody>\n",
              "</table>\n",
              "</div>"
            ],
            "text/plain": [
              "   id  qid1  ...                                          question2 is_duplicate\n",
              "0   0     1  ...  What is the step by step guide to invest in sh...            0\n",
              "1   1     3  ...  What would happen if the Indian government sto...            0\n",
              "2   2     5  ...  How can Internet speed be increased by hacking...            0\n",
              "3   3     7  ...  Find the remainder when [math]23^{24}[/math] i...            0\n",
              "4   4     9  ...            Which fish would survive in salt water?            0\n",
              "\n",
              "[5 rows x 6 columns]"
            ]
          },
          "metadata": {},
          "execution_count": 5
        }
      ]
    },
    {
      "cell_type": "code",
      "metadata": {
        "execution": {
          "iopub.status.busy": "2021-09-11T06:10:30.525855Z",
          "iopub.execute_input": "2021-09-11T06:10:30.526412Z",
          "iopub.status.idle": "2021-09-11T06:10:30.537737Z",
          "shell.execute_reply.started": "2021-09-11T06:10:30.526368Z",
          "shell.execute_reply": "2021-09-11T06:10:30.536684Z"
        },
        "trusted": true,
        "id": "WgR58j4ref-q",
        "colab": {
          "base_uri": "https://localhost:8080/"
        },
        "outputId": "e5afb1ed-d8c0-4fd9-d0f4-214424ac006d"
      },
      "source": [
        "df.shape"
      ],
      "execution_count": 6,
      "outputs": [
        {
          "output_type": "execute_result",
          "data": {
            "text/plain": [
              "(404290, 6)"
            ]
          },
          "metadata": {},
          "execution_count": 6
        }
      ]
    },
    {
      "cell_type": "code",
      "metadata": {
        "execution": {
          "iopub.status.busy": "2021-09-11T06:10:30.539669Z",
          "iopub.execute_input": "2021-09-11T06:10:30.540053Z",
          "iopub.status.idle": "2021-09-11T06:10:30.654177Z",
          "shell.execute_reply.started": "2021-09-11T06:10:30.540023Z",
          "shell.execute_reply": "2021-09-11T06:10:30.652899Z"
        },
        "trusted": true,
        "id": "H59rGHGxef-t",
        "colab": {
          "base_uri": "https://localhost:8080/"
        },
        "outputId": "1a9a9b14-a13f-46e7-af15-1ddb14b8851b"
      },
      "source": [
        "df.info() # some values are missing from the 'question2' column"
      ],
      "execution_count": 7,
      "outputs": [
        {
          "output_type": "stream",
          "name": "stdout",
          "text": [
            "<class 'pandas.core.frame.DataFrame'>\n",
            "RangeIndex: 404290 entries, 0 to 404289\n",
            "Data columns (total 6 columns):\n",
            " #   Column        Non-Null Count   Dtype \n",
            "---  ------        --------------   ----- \n",
            " 0   id            404290 non-null  int64 \n",
            " 1   qid1          404290 non-null  int64 \n",
            " 2   qid2          404290 non-null  int64 \n",
            " 3   question1     404289 non-null  object\n",
            " 4   question2     404288 non-null  object\n",
            " 5   is_duplicate  404290 non-null  int64 \n",
            "dtypes: int64(4), object(2)\n",
            "memory usage: 18.5+ MB\n"
          ]
        }
      ]
    },
    {
      "cell_type": "code",
      "metadata": {
        "execution": {
          "iopub.status.busy": "2021-09-11T06:10:30.655369Z",
          "iopub.execute_input": "2021-09-11T06:10:30.655643Z",
          "iopub.status.idle": "2021-09-11T06:10:30.708445Z",
          "shell.execute_reply.started": "2021-09-11T06:10:30.655615Z",
          "shell.execute_reply": "2021-09-11T06:10:30.707285Z"
        },
        "trusted": true,
        "id": "BSeo1X4Nef-v",
        "colab": {
          "base_uri": "https://localhost:8080/"
        },
        "outputId": "62cb80cb-82f6-4589-99e1-f8ba0cb7f8a2"
      },
      "source": [
        "df.question2.isnull().sum() # since very few values are missing from this column hence it's better to remove both the rows."
      ],
      "execution_count": 8,
      "outputs": [
        {
          "output_type": "execute_result",
          "data": {
            "text/plain": [
              "2"
            ]
          },
          "metadata": {},
          "execution_count": 8
        }
      ]
    },
    {
      "cell_type": "markdown",
      "metadata": {
        "id": "1L9awkalef-x"
      },
      "source": [
        "**let's see if the classes are balanced or not**"
      ]
    },
    {
      "cell_type": "code",
      "metadata": {
        "execution": {
          "iopub.status.busy": "2021-09-11T06:10:30.709846Z",
          "iopub.execute_input": "2021-09-11T06:10:30.710306Z",
          "iopub.status.idle": "2021-09-11T06:10:30.723679Z",
          "shell.execute_reply.started": "2021-09-11T06:10:30.710270Z",
          "shell.execute_reply": "2021-09-11T06:10:30.722616Z"
        },
        "trusted": true,
        "id": "IawefFLGef-2",
        "colab": {
          "base_uri": "https://localhost:8080/"
        },
        "outputId": "2d9da9e7-8436-4a89-d35d-368a1ce25297"
      },
      "source": [
        "df['is_duplicate'].value_counts()"
      ],
      "execution_count": 9,
      "outputs": [
        {
          "output_type": "execute_result",
          "data": {
            "text/plain": [
              "0    255027\n",
              "1    149263\n",
              "Name: is_duplicate, dtype: int64"
            ]
          },
          "metadata": {},
          "execution_count": 9
        }
      ]
    },
    {
      "cell_type": "markdown",
      "metadata": {
        "id": "k1Q-w2bUoDPv"
      },
      "source": [
        "Dataset is not balanced"
      ]
    },
    {
      "cell_type": "markdown",
      "metadata": {
        "id": "lmIeP0bhef-5"
      },
      "source": [
        "**https://stackoverflow.com/questions/26476668/frequency-plot-in-python-pandas-dataframe**"
      ]
    },
    {
      "cell_type": "code",
      "metadata": {
        "execution": {
          "iopub.status.busy": "2021-09-11T06:10:30.724864Z",
          "iopub.execute_input": "2021-09-11T06:10:30.725341Z",
          "iopub.status.idle": "2021-09-11T06:10:30.862304Z",
          "shell.execute_reply.started": "2021-09-11T06:10:30.725305Z",
          "shell.execute_reply": "2021-09-11T06:10:30.861519Z"
        },
        "trusted": true,
        "id": "ZEO7O3hfef--",
        "colab": {
          "base_uri": "https://localhost:8080/",
          "height": 262
        },
        "outputId": "aac15755-f79c-4187-de81-8eb98ec9d7dd"
      },
      "source": [
        "import matplotlib.pyplot as plt\n",
        "import pandas\n",
        "\n",
        "fig, ax = plt.subplots() # plt.subplots() is a function that returns a tuple containing a figure and axes object(s).\n",
        "\n",
        "df['is_duplicate'].value_counts().plot(ax=ax, kind='bar')\n",
        "\n",
        "plt.show()"
      ],
      "execution_count": 10,
      "outputs": [
        {
          "output_type": "display_data",
          "data": {
            "image/png": "[encoded data removed]",
            "text/plain": [
              "<Figure size 432x288 with 1 Axes>"
            ]
          },
          "metadata": {
            "needs_background": "light"
          }
        }
      ]
    },
    {
      "cell_type": "markdown",
      "metadata": {
        "id": "4onIw313ef_C"
      },
      "source": [
        "**https://stackoverflow.com/questions/34162443/why-do-many-examples-use-fig-ax-plt-subplots-in-matplotlib-pyplot-python**"
      ]
    },
    {
      "cell_type": "code",
      "metadata": {
        "execution": {
          "iopub.status.busy": "2021-09-11T06:10:30.864323Z",
          "iopub.execute_input": "2021-09-11T06:10:30.864711Z",
          "iopub.status.idle": "2021-09-11T06:10:30.998494Z",
          "shell.execute_reply.started": "2021-09-11T06:10:30.864674Z",
          "shell.execute_reply": "2021-09-11T06:10:30.997499Z"
        },
        "trusted": true,
        "id": "bRURN8Ulef_J",
        "colab": {
          "base_uri": "https://localhost:8080/",
          "height": 143
        },
        "outputId": "760943d0-174a-4563-a74e-b8f013e4680c"
      },
      "source": [
        "df.groupby(\"is_duplicate\").count() \n",
        "# It will select all the columns present inside df and then it will group accoridng to 'is_duplicate'"
      ],
      "execution_count": 11,
      "outputs": [
        {
          "output_type": "execute_result",
          "data": {
            "text/html": [
              "<div>\n",
              "<style scoped>\n",
              "    .dataframe tbody tr th:only-of-type {\n",
              "        vertical-align: middle;\n",
              "    }\n",
              "\n",
              "    .dataframe tbody tr th {\n",
              "        vertical-align: top;\n",
              "    }\n",
              "\n",
              "    .dataframe thead th {\n",
              "        text-align: right;\n",
              "    }\n",
              "</style>\n",
              "<table border=\"1\" class=\"dataframe\">\n",
              "  <thead>\n",
              "    <tr style=\"text-align: right;\">\n",
              "      <th></th>\n",
              "      <th>id</th>\n",
              "      <th>qid1</th>\n",
              "      <th>qid2</th>\n",
              "      <th>question1</th>\n",
              "      <th>question2</th>\n",
              "    </tr>\n",
              "    <tr>\n",
              "      <th>is_duplicate</th>\n",
              "      <th></th>\n",
              "      <th></th>\n",
              "      <th></th>\n",
              "      <th></th>\n",
              "      <th></th>\n",
              "    </tr>\n",
              "  </thead>\n",
              "  <tbody>\n",
              "    <tr>\n",
              "      <th>0</th>\n",
              "      <td>255027</td>\n",
              "      <td>255027</td>\n",
              "      <td>255027</td>\n",
              "      <td>255026</td>\n",
              "      <td>255025</td>\n",
              "    </tr>\n",
              "    <tr>\n",
              "      <th>1</th>\n",
              "      <td>149263</td>\n",
              "      <td>149263</td>\n",
              "      <td>149263</td>\n",
              "      <td>149263</td>\n",
              "      <td>149263</td>\n",
              "    </tr>\n",
              "  </tbody>\n",
              "</table>\n",
              "</div>"
            ],
            "text/plain": [
              "                  id    qid1    qid2  question1  question2\n",
              "is_duplicate                                              \n",
              "0             255027  255027  255027     255026     255025\n",
              "1             149263  149263  149263     149263     149263"
            ]
          },
          "metadata": {},
          "execution_count": 11
        }
      ]
    },
    {
      "cell_type": "code",
      "metadata": {
        "execution": {
          "iopub.status.busy": "2021-09-11T06:10:31.000062Z",
          "iopub.execute_input": "2021-09-11T06:10:31.000364Z",
          "iopub.status.idle": "2021-09-11T06:10:31.020299Z",
          "shell.execute_reply.started": "2021-09-11T06:10:31.000338Z",
          "shell.execute_reply": "2021-09-11T06:10:31.019165Z"
        },
        "trusted": true,
        "id": "UNTMQXBfef_K",
        "colab": {
          "base_uri": "https://localhost:8080/",
          "height": 143
        },
        "outputId": "b8f3dce9-c987-4127-9f45-b9fd40a5fecd"
      },
      "source": [
        "df[['id','is_duplicate']].groupby(['is_duplicate']).count()\n",
        "# This will first select two columns from df and then will group them according to 'is_duplicate' ."
      ],
      "execution_count": 12,
      "outputs": [
        {
          "output_type": "execute_result",
          "data": {
            "text/html": [
              "<div>\n",
              "<style scoped>\n",
              "    .dataframe tbody tr th:only-of-type {\n",
              "        vertical-align: middle;\n",
              "    }\n",
              "\n",
              "    .dataframe tbody tr th {\n",
              "        vertical-align: top;\n",
              "    }\n",
              "\n",
              "    .dataframe thead th {\n",
              "        text-align: right;\n",
              "    }\n",
              "</style>\n",
              "<table border=\"1\" class=\"dataframe\">\n",
              "  <thead>\n",
              "    <tr style=\"text-align: right;\">\n",
              "      <th></th>\n",
              "      <th>id</th>\n",
              "    </tr>\n",
              "    <tr>\n",
              "      <th>is_duplicate</th>\n",
              "      <th></th>\n",
              "    </tr>\n",
              "  </thead>\n",
              "  <tbody>\n",
              "    <tr>\n",
              "      <th>0</th>\n",
              "      <td>255027</td>\n",
              "    </tr>\n",
              "    <tr>\n",
              "      <th>1</th>\n",
              "      <td>149263</td>\n",
              "    </tr>\n",
              "  </tbody>\n",
              "</table>\n",
              "</div>"
            ],
            "text/plain": [
              "                  id\n",
              "is_duplicate        \n",
              "0             255027\n",
              "1             149263"
            ]
          },
          "metadata": {},
          "execution_count": 12
        }
      ]
    },
    {
      "cell_type": "code",
      "metadata": {
        "execution": {
          "iopub.status.busy": "2021-09-11T06:10:31.022914Z",
          "iopub.execute_input": "2021-09-11T06:10:31.023296Z",
          "iopub.status.idle": "2021-09-11T06:10:31.187674Z",
          "shell.execute_reply.started": "2021-09-11T06:10:31.023262Z",
          "shell.execute_reply": "2021-09-11T06:10:31.186689Z"
        },
        "trusted": true,
        "id": "sN4CKXtJef_M",
        "colab": {
          "base_uri": "https://localhost:8080/",
          "height": 277
        },
        "outputId": "ffee8de9-0a76-48d2-a5c3-3a1bc66d89f7"
      },
      "source": [
        "df[['id','is_duplicate']].groupby(['is_duplicate']).count().plot(kind = 'bar') \n",
        "\n",
        "plt.show()\n",
        "# This will first select two columns from df and then will group them according to 'is_duplicate' and then it will plot"
      ],
      "execution_count": 13,
      "outputs": [
        {
          "output_type": "display_data",
          "data": {
            "image/png": "[encoded data removed]",
            "text/plain": [
              "<Figure size 432x288 with 1 Axes>"
            ]
          },
          "metadata": {
            "needs_background": "light"
          }
        }
      ]
    },
    {
      "cell_type": "code",
      "metadata": {
        "execution": {
          "iopub.status.busy": "2021-09-11T06:10:31.188913Z",
          "iopub.execute_input": "2021-09-11T06:10:31.189239Z",
          "iopub.status.idle": "2021-09-11T06:10:31.332928Z",
          "shell.execute_reply.started": "2021-09-11T06:10:31.189209Z",
          "shell.execute_reply": "2021-09-11T06:10:31.332014Z"
        },
        "trusted": true,
        "id": "aqZ7hikEef_N",
        "colab": {
          "base_uri": "https://localhost:8080/",
          "height": 277
        },
        "outputId": "b31e8d4a-9270-4ee9-fa12-c25ba54bd580"
      },
      "source": [
        "df.groupby(\"is_duplicate\")['id'].count().plot(kind = 'bar')\n",
        "\n",
        "plt.show()\n",
        "# selecting all columns from df then grouping them according to 'is_duplicate' and then accordingly counting the 'id' column\n",
        "# as 'id' would be unique of every pair"
      ],
      "execution_count": 14,
      "outputs": [
        {
          "output_type": "display_data",
          "data": {
            "image/png": "[encoded data removed]",
            "text/plain": [
              "<Figure size 432x288 with 1 Axes>"
            ]
          },
          "metadata": {
            "needs_background": "light"
          }
        }
      ]
    },
    {
      "cell_type": "code",
      "metadata": {
        "execution": {
          "iopub.status.busy": "2021-09-11T06:10:31.336043Z",
          "iopub.execute_input": "2021-09-11T06:10:31.336417Z",
          "iopub.status.idle": "2021-09-11T06:10:31.499266Z",
          "shell.execute_reply.started": "2021-09-11T06:10:31.336388Z",
          "shell.execute_reply": "2021-09-11T06:10:31.498073Z"
        },
        "trusted": true,
        "id": "fzMXjNosef_P",
        "colab": {
          "base_uri": "https://localhost:8080/",
          "height": 277
        },
        "outputId": "5410a6a5-7efc-44ee-be64-852c8d5686b4"
      },
      "source": [
        "df[['id','is_duplicate']].groupby('is_duplicate').count().plot.bar()\n",
        "\n",
        "plt.show()\n",
        "# selecting the column that are required to plot\n",
        "# remeber we need numeric data to plot\n",
        "# df[[is_duplicate']].groupby('is_duplicate').count().plot.bar() , will result in an error"
      ],
      "execution_count": 15,
      "outputs": [
        {
          "output_type": "display_data",
          "data": {
            "image/png": "[encoded data removed]",
            "text/plain": [
              "<Figure size 432x288 with 1 Axes>"
            ]
          },
          "metadata": {
            "needs_background": "light"
          }
        }
      ]
    },
    {
      "cell_type": "code",
      "metadata": {
        "execution": {
          "iopub.status.busy": "2021-09-11T06:10:31.500716Z",
          "iopub.execute_input": "2021-09-11T06:10:31.501145Z",
          "iopub.status.idle": "2021-09-11T06:10:31.654169Z",
          "shell.execute_reply.started": "2021-09-11T06:10:31.501082Z",
          "shell.execute_reply": "2021-09-11T06:10:31.652967Z"
        },
        "trusted": true,
        "id": "eowIi02jef_R",
        "colab": {
          "base_uri": "https://localhost:8080/",
          "height": 280
        },
        "outputId": "2c8ddf20-dbe0-48be-b588-33b703fdbc86"
      },
      "source": [
        "import seaborn as sns\n",
        "\n",
        "sns.countplot(x = 'is_duplicate',data = df) # This is much simpler and elgant.\n",
        "plt.show()"
      ],
      "execution_count": 16,
      "outputs": [
        {
          "output_type": "display_data",
          "data": {
            "image/png": "[encoded data removed]",
            "text/plain": [
              "<Figure size 432x288 with 1 Axes>"
            ]
          },
          "metadata": {
            "needs_background": "light"
          }
        }
      ]
    },
    {
      "cell_type": "code",
      "metadata": {
        "execution": {
          "iopub.status.busy": "2021-09-11T06:10:31.655748Z",
          "iopub.execute_input": "2021-09-11T06:10:31.656174Z",
          "iopub.status.idle": "2021-09-11T06:10:31.807590Z",
          "shell.execute_reply.started": "2021-09-11T06:10:31.656130Z",
          "shell.execute_reply": "2021-09-11T06:10:31.806384Z"
        },
        "trusted": true,
        "id": "2nTtKxWref_T",
        "colab": {
          "base_uri": "https://localhost:8080/",
          "height": 280
        },
        "outputId": "e0331bf0-75c3-460c-99e3-e83c3df07c75"
      },
      "source": [
        "sns.countplot(x = df.is_duplicate) # another way since we want to plot only one column so why to feed the whole data\n",
        "\n",
        "plt.show()"
      ],
      "execution_count": 17,
      "outputs": [
        {
          "output_type": "display_data",
          "data": {
            "image/png": "[encoded data removed]",
            "text/plain": [
              "<Figure size 432x288 with 1 Axes>"
            ]
          },
          "metadata": {
            "needs_background": "light"
          }
        }
      ]
    },
    {
      "cell_type": "code",
      "metadata": {
        "execution": {
          "iopub.status.busy": "2021-09-11T06:10:31.808895Z",
          "iopub.execute_input": "2021-09-11T06:10:31.809334Z",
          "iopub.status.idle": "2021-09-11T06:10:31.817465Z",
          "shell.execute_reply.started": "2021-09-11T06:10:31.809290Z",
          "shell.execute_reply": "2021-09-11T06:10:31.816195Z"
        },
        "trusted": true,
        "id": "0MpHPHN3ef_U",
        "colab": {
          "base_uri": "https://localhost:8080/"
        },
        "outputId": "3555e16e-46f0-4359-d4a7-41f294faf0ea"
      },
      "source": [
        "print('\\n~> Question pairs are Similar (is_duplicate = 1):\\n   {}%'.format(round(df['is_duplicate'].mean()*100, 2)) )\n",
        "# we can use for loop too\n",
        "print('\\n~> Question pairs are Similar (is_duplicate = 0):\\n   {}%'.format(100 - round(df['is_duplicate'].mean()*100, 2)))\n",
        "# just subtract from 100 to get the percentage of other class"
      ],
      "execution_count": 18,
      "outputs": [
        {
          "output_type": "stream",
          "name": "stdout",
          "text": [
            "\n",
            "~> Question pairs are Similar (is_duplicate = 1):\n",
            "   36.92%\n",
            "\n",
            "~> Question pairs are Similar (is_duplicate = 0):\n",
            "   63.08%\n"
          ]
        }
      ]
    },
    {
      "cell_type": "markdown",
      "metadata": {
        "id": "yKN1O9Yoef_V"
      },
      "source": [
        "**Number of Unique Questions**"
      ]
    },
    {
      "cell_type": "code",
      "metadata": {
        "execution": {
          "iopub.status.busy": "2021-09-11T06:10:31.818957Z",
          "iopub.execute_input": "2021-09-11T06:10:31.819325Z",
          "iopub.status.idle": "2021-09-11T06:10:32.497620Z",
          "shell.execute_reply.started": "2021-09-11T06:10:31.819292Z",
          "shell.execute_reply": "2021-09-11T06:10:32.496335Z"
        },
        "trusted": true,
        "id": "DuxpJpJCef_W",
        "colab": {
          "base_uri": "https://localhost:8080/"
        },
        "outputId": "dfb59a0a-d507-4657-a980-65a5b8eb9752"
      },
      "source": [
        "import numpy as np\n",
        "\n",
        "qids = pd.Series( df['qid1'].tolist() + df['qid2'].tolist() )\n",
        "unique_questions = len(qids.unique())\n",
        "print(\"Total Number of Unique Questions {}\".format(unique_questions))\n",
        "\n",
        "repeated_questions = np.sum(qids.value_counts()>1) # value_counts gives the count of every category\n",
        "print(\"Total Number of Repeated Questions are {}({})%\\n\".format(repeated_questions,repeated_questions/unique_questions*100))\n",
        "\n",
        "q_vals = qids.value_counts() # contains frequncy of every question\n",
        "print(\"Maximum Number of times one question is repeated is {}\\n\".format(max(q_vals)) )\n",
        "\n",
        "\n",
        "# print(type(q_vals),q_vals.shape) # two columns one containing category other containing it's occurence\n",
        "# print(q_vals)\n",
        "# q_vals = q_vals.values # Return Series as ndarray or ndarray-like depending on the dtype\n",
        "# print(q_vals)"
      ],
      "execution_count": 19,
      "outputs": [
        {
          "output_type": "stream",
          "name": "stdout",
          "text": [
            "Total Number of Unique Questions 537933\n",
            "Total Number of Repeated Questions are 111780(20.77953945937505)%\n",
            "\n",
            "Maximum Number of times one question is repeated is 157\n",
            "\n"
          ]
        }
      ]
    },
    {
      "cell_type": "code",
      "metadata": {
        "execution": {
          "iopub.status.busy": "2021-09-11T06:10:32.499319Z",
          "iopub.execute_input": "2021-09-11T06:10:32.499740Z",
          "iopub.status.idle": "2021-09-11T06:10:32.635302Z",
          "shell.execute_reply.started": "2021-09-11T06:10:32.499697Z",
          "shell.execute_reply": "2021-09-11T06:10:32.634286Z"
        },
        "trusted": true,
        "id": "LKbXupiref_Z",
        "colab": {
          "base_uri": "https://localhost:8080/",
          "height": 390
        },
        "outputId": "dbbc375a-b349-459b-e1e4-ea892b70488d"
      },
      "source": [
        "x_axis = ['Unique Questions','Repeated Questions']\n",
        "y_axis = [unique_questions,repeated_questions]\n",
        "\n",
        "plt.figure(figsize=(10,6))\n",
        "sns.barplot(x = x_axis,y= y_axis)\n",
        "\n",
        "plt.title (\" Plot representing unique and repeated questions  \")\n",
        "\n",
        "plt.show()"
      ],
      "execution_count": 20,
      "outputs": [
        {
          "output_type": "display_data",
          "data": {
            "image/png": "[encoded data removed]",
            "text/plain": [
              "<Figure size 720x432 with 1 Axes>"
            ]
          },
          "metadata": {
            "needs_background": "light"
          }
        }
      ]
    },
    {
      "cell_type": "markdown",
      "metadata": {
        "id": "2VWE6I8Wef_b"
      },
      "source": [
        "## Checking for Duplicates"
      ]
    },
    {
      "cell_type": "code",
      "metadata": {
        "execution": {
          "iopub.status.busy": "2021-09-11T06:10:32.636713Z",
          "iopub.execute_input": "2021-09-11T06:10:32.637041Z",
          "iopub.status.idle": "2021-09-11T06:10:32.908162Z",
          "shell.execute_reply.started": "2021-09-11T06:10:32.637011Z",
          "shell.execute_reply": "2021-09-11T06:10:32.907163Z"
        },
        "trusted": true,
        "id": "eXnW1bt9ef_d",
        "colab": {
          "base_uri": "https://localhost:8080/"
        },
        "outputId": "efc93751-7cbd-4db9-b09b-109c8b7477ce"
      },
      "source": [
        "pair_duplicates = df[['qid1','qid2','is_duplicate']].groupby(['qid1','qid2']).count()\n",
        "print(pair_duplicates.head())\n",
        "print(df.shape,pair_duplicates.shape)\n",
        "print(\"Number of Duplicate Question Pairs are :- \",df.shape[0] - pair_duplicates.shape[0]) # Finding the Difference in number of rows"
      ],
      "execution_count": 21,
      "outputs": [
        {
          "output_type": "stream",
          "name": "stdout",
          "text": [
            "             is_duplicate\n",
            "qid1 qid2                \n",
            "1    2                  1\n",
            "3    4                  1\n",
            "     282170             1\n",
            "     380197             1\n",
            "     488853             1\n",
            "(404290, 6) (404290, 1)\n",
            "Number of Duplicate Question Pairs are :-  0\n"
          ]
        }
      ]
    },
    {
      "cell_type": "code",
      "metadata": {
        "id": "H3rEwXyutxAQ",
        "colab": {
          "base_uri": "https://localhost:8080/"
        },
        "outputId": "1e1720d8-54f8-48fa-bd69-964df228ec3a"
      },
      "source": [
        "pair_duplicates = df[['qid1','qid2','is_duplicate']].groupby(['qid1','qid2']).count().reset_index()\n",
        "print(pair_duplicates.head())\n",
        "print(\"Number of Duplicate Questions are :- \",df.shape[0] - pair_duplicates.shape[0])"
      ],
      "execution_count": 22,
      "outputs": [
        {
          "output_type": "stream",
          "name": "stdout",
          "text": [
            "   qid1    qid2  is_duplicate\n",
            "0     1       2             1\n",
            "1     3       4             1\n",
            "2     3  282170             1\n",
            "3     3  380197             1\n",
            "4     3  488853             1\n",
            "Number of Duplicate Questions are :-  0\n"
          ]
        }
      ]
    },
    {
      "cell_type": "markdown",
      "metadata": {
        "id": "Y3YkADMLef_g"
      },
      "source": [
        "## Number of occurrences of each Question"
      ]
    },
    {
      "cell_type": "code",
      "metadata": {
        "execution": {
          "iopub.status.busy": "2021-09-11T06:10:32.909412Z",
          "iopub.execute_input": "2021-09-11T06:10:32.909703Z",
          "iopub.status.idle": "2021-09-11T06:10:33.837004Z",
          "shell.execute_reply.started": "2021-09-11T06:10:32.909677Z",
          "shell.execute_reply": "2021-09-11T06:10:33.835928Z"
        },
        "trusted": true,
        "id": "x3x_YhiFef_h",
        "colab": {
          "base_uri": "https://localhost:8080/",
          "height": 381
        },
        "outputId": "3040f461-4d51-4091-de25-6fcf70b8eeef"
      },
      "source": [
        "plt.figure(figsize = (20,5))\n",
        "plt.hist(qids.value_counts()) # If bins is an integer, it defines the number of equal-width bins in the range.by def 10 bins\n",
        "\n",
        "plt.yscale(\"log\")# setting the y-axis scale to log\n",
        "\n",
        "plt.title('Log-Histogram of question appearance counts')\n",
        "plt.xlabel('Number of occurences of question')\n",
        "plt.ylabel('Number of questions')\n",
        "\n",
        "print ('Maximum number of times a single question is repeated: {}\\n'.format(max(qids.value_counts()))) "
      ],
      "execution_count": 23,
      "outputs": [
        {
          "output_type": "stream",
          "name": "stdout",
          "text": [
            "Maximum number of times a single question is repeated: 157\n",
            "\n"
          ]
        },
        {
          "output_type": "display_data",
          "data": {
            "image/png": "[encoded data removed]",
            "text/plain": [
              "<Figure size 1440x360 with 1 Axes>"
            ]
          },
          "metadata": {
            "needs_background": "light"
          }
        }
      ]
    },
    {
      "cell_type": "code",
      "metadata": {
        "execution": {
          "iopub.status.busy": "2021-09-11T06:10:33.838123Z",
          "iopub.execute_input": "2021-09-11T06:10:33.838447Z",
          "iopub.status.idle": "2021-09-11T06:10:35.135842Z",
          "shell.execute_reply.started": "2021-09-11T06:10:33.838417Z",
          "shell.execute_reply": "2021-09-11T06:10:35.134783Z"
        },
        "trusted": true,
        "id": "qQozydjnef_i",
        "colab": {
          "base_uri": "https://localhost:8080/",
          "height": 440
        },
        "outputId": "a788dd1b-8bf0-4465-a6a0-4d56244ff54a"
      },
      "source": [
        "plt.figure(figsize = (20,6))\n",
        "\n",
        "plt.hist(qids.value_counts(),bins = 160) # 160 bins of equal width \n",
        "\n",
        "plt.yscale(\"log\")# Any nonpositive value will be clipped to a number very close to 0 or 1\n",
        "\n",
        "plt.title('Log-Histogram of question appearance counts',fontsize = 15)\n",
        "plt.xlabel('Number of occurences of Question',fontsize = 15)\n",
        "plt.ylabel('Number of Questions',fontsize = 15)\n",
        "\n",
        "print ('Maximum number of times a single Question is repeated: {}\\n'.format(max(qids.value_counts()))) "
      ],
      "execution_count": 24,
      "outputs": [
        {
          "output_type": "stream",
          "name": "stdout",
          "text": [
            "Maximum number of times a single Question is repeated: 157\n",
            "\n"
          ]
        },
        {
          "output_type": "display_data",
          "data": {
            "image/png": "[encoded data removed]",
            "text/plain": [
              "<Figure size 1440x432 with 1 Axes>"
            ]
          },
          "metadata": {
            "needs_background": "light"
          }
        }
      ]
    },
    {
      "cell_type": "markdown",
      "metadata": {
        "id": "p-qoP6Eref_j"
      },
      "source": [
        "## Checking for Null Values"
      ]
    },
    {
      "cell_type": "code",
      "metadata": {
        "execution": {
          "iopub.status.busy": "2021-09-11T06:10:35.137643Z",
          "iopub.execute_input": "2021-09-11T06:10:35.138110Z",
          "iopub.status.idle": "2021-09-11T06:10:35.244142Z",
          "shell.execute_reply.started": "2021-09-11T06:10:35.138034Z",
          "shell.execute_reply": "2021-09-11T06:10:35.242938Z"
        },
        "trusted": true,
        "id": "AKzxADUAef_j",
        "colab": {
          "base_uri": "https://localhost:8080/"
        },
        "outputId": "6b75bd66-8f88-451a-c9f2-4b73a32a3852"
      },
      "source": [
        "number_of_nan_rows = df.isnull().any(axis = 1).sum()# will check whole row if any column value is Null then it will return 1, then take sum of\n",
        "                                                                                                      # of all ones.\n",
        "print (number_of_nan_rows)"
      ],
      "execution_count": 25,
      "outputs": [
        {
          "output_type": "stream",
          "name": "stdout",
          "text": [
            "3\n"
          ]
        }
      ]
    },
    {
      "cell_type": "code",
      "metadata": {
        "id": "Az_GBJv5xu_L",
        "colab": {
          "base_uri": "https://localhost:8080/",
          "height": 143
        },
        "outputId": "d4312bf1-7100-42e9-ae64-4de3f6d44caf"
      },
      "source": [
        "nan_row_df = df[df.isnull().any(axis = 1)] # will check whole row if any column value is Null then it will return 1, then take sum of\n",
        "                                                                                    # that whole row and copy it on lhs variable.\n",
        "\n",
        "nan_row_df.head()"
      ],
      "execution_count": 26,
      "outputs": [
        {
          "output_type": "execute_result",
          "data": {
            "text/html": [
              "<div>\n",
              "<style scoped>\n",
              "    .dataframe tbody tr th:only-of-type {\n",
              "        vertical-align: middle;\n",
              "    }\n",
              "\n",
              "    .dataframe tbody tr th {\n",
              "        vertical-align: top;\n",
              "    }\n",
              "\n",
              "    .dataframe thead th {\n",
              "        text-align: right;\n",
              "    }\n",
              "</style>\n",
              "<table border=\"1\" class=\"dataframe\">\n",
              "  <thead>\n",
              "    <tr style=\"text-align: right;\">\n",
              "      <th></th>\n",
              "      <th>id</th>\n",
              "      <th>qid1</th>\n",
              "      <th>qid2</th>\n",
              "      <th>question1</th>\n",
              "      <th>question2</th>\n",
              "      <th>is_duplicate</th>\n",
              "    </tr>\n",
              "  </thead>\n",
              "  <tbody>\n",
              "    <tr>\n",
              "      <th>105780</th>\n",
              "      <td>105780</td>\n",
              "      <td>174363</td>\n",
              "      <td>174364</td>\n",
              "      <td>How can I develop android app?</td>\n",
              "      <td>NaN</td>\n",
              "      <td>0</td>\n",
              "    </tr>\n",
              "    <tr>\n",
              "      <th>201841</th>\n",
              "      <td>201841</td>\n",
              "      <td>303951</td>\n",
              "      <td>174364</td>\n",
              "      <td>How can I create an Android app?</td>\n",
              "      <td>NaN</td>\n",
              "      <td>0</td>\n",
              "    </tr>\n",
              "    <tr>\n",
              "      <th>363362</th>\n",
              "      <td>363362</td>\n",
              "      <td>493340</td>\n",
              "      <td>493341</td>\n",
              "      <td>NaN</td>\n",
              "      <td>My Chinese name is Haichao Yu. What English na...</td>\n",
              "      <td>0</td>\n",
              "    </tr>\n",
              "  </tbody>\n",
              "</table>\n",
              "</div>"
            ],
            "text/plain": [
              "            id  ...  is_duplicate\n",
              "105780  105780  ...             0\n",
              "201841  201841  ...             0\n",
              "363362  363362  ...             0\n",
              "\n",
              "[3 rows x 6 columns]"
            ]
          },
          "metadata": {},
          "execution_count": 26
        }
      ]
    },
    {
      "cell_type": "code",
      "metadata": {
        "execution": {
          "iopub.status.busy": "2021-09-11T06:10:35.245580Z",
          "iopub.execute_input": "2021-09-11T06:10:35.246009Z",
          "iopub.status.idle": "2021-09-11T06:10:35.497188Z",
          "shell.execute_reply.started": "2021-09-11T06:10:35.245968Z",
          "shell.execute_reply": "2021-09-11T06:10:35.495940Z"
        },
        "trusted": true,
        "id": "x-Rh7BkZef_k",
        "colab": {
          "base_uri": "https://localhost:8080/"
        },
        "outputId": "fe9c362e-e09c-4731-deb6-b07cefc0be6f"
      },
      "source": [
        "# Filling the null values with ' '\n",
        "\n",
        "df = df.fillna('')\n",
        "nan_rows = df[df.isnull().any(1)] \n",
        "#  when the text column is missing, we have to drop those rows.but here we are just filling because only two rows are missing.\n",
        "print (nan_rows)"
      ],
      "execution_count": 27,
      "outputs": [
        {
          "output_type": "stream",
          "name": "stdout",
          "text": [
            "Empty DataFrame\n",
            "Columns: [id, qid1, qid2, question1, question2, is_duplicate]\n",
            "Index: []\n"
          ]
        }
      ]
    },
    {
      "cell_type": "markdown",
      "metadata": {
        "id": "X_VxaEixef_l"
      },
      "source": [
        "## <h2> Basic Feature Extraction (before cleaning) </h2>"
      ]
    },
    {
      "cell_type": "markdown",
      "metadata": {
        "id": "AGOzn4dqef_l"
      },
      "source": [
        "Let us now construct a few features like:\n",
        " - **freq_qid1** = Frequency of qid1's\n",
        " - ____freq_qid2____ = Frequency of qid2's \n",
        " - ____q1len____ = Length of q1 (string length)\n",
        " - ____q2len____ = Length of q2\n",
        " - ____q1_n_words____ = Number of words in Question 1\n",
        " - ____q2_n_words____ = Number of words in Question 2\n",
        " - ____word_Common____ = (Number of common unique words in Question 1 and Question 2)\n",
        " - ____word_Total____ =(Total num of words in Question 1 + Total num of words in Question 2)\n",
        " - ____word_share____ = (word_common)/(word_Total)\n",
        " - ____freq_q1+freq_q2____ = sum total of frequency of qid1 and qid2 \n",
        " - ____freq_q1-freq_q2____ = absolute difference of frequency of qid1 and qid2 "
      ]
    },
    {
      "cell_type": "code",
      "metadata": {
        "execution": {
          "iopub.status.busy": "2021-09-11T06:10:35.501050Z",
          "iopub.execute_input": "2021-09-11T06:10:35.501385Z",
          "iopub.status.idle": "2021-09-11T06:10:35.514436Z",
          "shell.execute_reply.started": "2021-09-11T06:10:35.501355Z",
          "shell.execute_reply": "2021-09-11T06:10:35.513313Z"
        },
        "trusted": true,
        "id": "cwFFpKlMef_m",
        "colab": {
          "base_uri": "https://localhost:8080/",
          "height": 206
        },
        "outputId": "21a02a7e-71b1-477d-f682-bbdc2adbff7c"
      },
      "source": [
        "df.head()"
      ],
      "execution_count": 28,
      "outputs": [
        {
          "output_type": "execute_result",
          "data": {
            "text/html": [
              "<div>\n",
              "<style scoped>\n",
              "    .dataframe tbody tr th:only-of-type {\n",
              "        vertical-align: middle;\n",
              "    }\n",
              "\n",
              "    .dataframe tbody tr th {\n",
              "        vertical-align: top;\n",
              "    }\n",
              "\n",
              "    .dataframe thead th {\n",
              "        text-align: right;\n",
              "    }\n",
              "</style>\n",
              "<table border=\"1\" class=\"dataframe\">\n",
              "  <thead>\n",
              "    <tr style=\"text-align: right;\">\n",
              "      <th></th>\n",
              "      <th>id</th>\n",
              "      <th>qid1</th>\n",
              "      <th>qid2</th>\n",
              "      <th>question1</th>\n",
              "      <th>question2</th>\n",
              "      <th>is_duplicate</th>\n",
              "    </tr>\n",
              "  </thead>\n",
              "  <tbody>\n",
              "    <tr>\n",
              "      <th>0</th>\n",
              "      <td>0</td>\n",
              "      <td>1</td>\n",
              "      <td>2</td>\n",
              "      <td>What is the step by step guide to invest in sh...</td>\n",
              "      <td>What is the step by step guide to invest in sh...</td>\n",
              "      <td>0</td>\n",
              "    </tr>\n",
              "    <tr>\n",
              "      <th>1</th>\n",
              "      <td>1</td>\n",
              "      <td>3</td>\n",
              "      <td>4</td>\n",
              "      <td>What is the story of Kohinoor (Koh-i-Noor) Dia...</td>\n",
              "      <td>What would happen if the Indian government sto...</td>\n",
              "      <td>0</td>\n",
              "    </tr>\n",
              "    <tr>\n",
              "      <th>2</th>\n",
              "      <td>2</td>\n",
              "      <td>5</td>\n",
              "      <td>6</td>\n",
              "      <td>How can I increase the speed of my internet co...</td>\n",
              "      <td>How can Internet speed be increased by hacking...</td>\n",
              "      <td>0</td>\n",
              "    </tr>\n",
              "    <tr>\n",
              "      <th>3</th>\n",
              "      <td>3</td>\n",
              "      <td>7</td>\n",
              "      <td>8</td>\n",
              "      <td>Why am I mentally very lonely? How can I solve...</td>\n",
              "      <td>Find the remainder when [math]23^{24}[/math] i...</td>\n",
              "      <td>0</td>\n",
              "    </tr>\n",
              "    <tr>\n",
              "      <th>4</th>\n",
              "      <td>4</td>\n",
              "      <td>9</td>\n",
              "      <td>10</td>\n",
              "      <td>Which one dissolve in water quikly sugar, salt...</td>\n",
              "      <td>Which fish would survive in salt water?</td>\n",
              "      <td>0</td>\n",
              "    </tr>\n",
              "  </tbody>\n",
              "</table>\n",
              "</div>"
            ],
            "text/plain": [
              "   id  qid1  ...                                          question2 is_duplicate\n",
              "0   0     1  ...  What is the step by step guide to invest in sh...            0\n",
              "1   1     3  ...  What would happen if the Indian government sto...            0\n",
              "2   2     5  ...  How can Internet speed be increased by hacking...            0\n",
              "3   3     7  ...  Find the remainder when [math]23^{24}[/math] i...            0\n",
              "4   4     9  ...            Which fish would survive in salt water?            0\n",
              "\n",
              "[5 rows x 6 columns]"
            ]
          },
          "metadata": {},
          "execution_count": 28
        }
      ]
    },
    {
      "cell_type": "markdown",
      "metadata": {
        "id": "ey9C4TuCef_n"
      },
      "source": [
        "**https://pbpython.com/pandas_transform.html**"
      ]
    },
    {
      "cell_type": "code",
      "metadata": {
        "id": "wrqioFJ_0VZP",
        "colab": {
          "base_uri": "https://localhost:8080/"
        },
        "outputId": "4e79cb7a-2a47-4ee4-d1ce-6e4ccd983651"
      },
      "source": [
        "df.groupby('qid1')['qid1'].sum() # it will sum the column on the basis of 'qid1'\n",
        "\n",
        "# e.g \"qid1 = 3\" is repeated 4 times and hence it has value of 12 , similary 'qid1 = 4' is present only one time and hence sum is 4 only,\n",
        "# but this is not what we want , we want the frequency of the question,i,e how many times a particular question id is repeated"
      ],
      "execution_count": 29,
      "outputs": [
        {
          "output_type": "execute_result",
          "data": {
            "text/plain": [
              "qid1\n",
              "1              1\n",
              "3             12\n",
              "4              4\n",
              "5              5\n",
              "7              7\n",
              "           ...  \n",
              "537924    537924\n",
              "537926    537926\n",
              "537928    537928\n",
              "537930    537930\n",
              "537932    537932\n",
              "Name: qid1, Length: 290654, dtype: int64"
            ]
          },
          "metadata": {},
          "execution_count": 29
        }
      ]
    },
    {
      "cell_type": "code",
      "metadata": {
        "id": "0yHP0q4k2S2S",
        "colab": {
          "base_uri": "https://localhost:8080/"
        },
        "outputId": "d5c00bec-ab14-4b45-b0c5-e3c64c1c7451"
      },
      "source": [
        "df.groupby('qid1')['qid1'].count() # This is the right choice of function but if we use this without using the transform function then ,\n",
        "# we will have to create a new dataframe bcz number of rows will become less after applying groupby() operation . \n",
        "# but we want to make changes in our original datafram only .i.e inplace changes hence we will use transform so that it combines the rows \n",
        "# after appyling the count function"
      ],
      "execution_count": 30,
      "outputs": [
        {
          "output_type": "execute_result",
          "data": {
            "text/plain": [
              "qid1\n",
              "1         1\n",
              "3         4\n",
              "4         1\n",
              "5         1\n",
              "7         1\n",
              "         ..\n",
              "537924    1\n",
              "537926    1\n",
              "537928    1\n",
              "537930    1\n",
              "537932    1\n",
              "Name: qid1, Length: 290654, dtype: int64"
            ]
          },
          "metadata": {},
          "execution_count": 30
        }
      ]
    },
    {
      "cell_type": "code",
      "metadata": {
        "execution": {
          "iopub.status.busy": "2021-09-11T06:10:35.516972Z",
          "iopub.execute_input": "2021-09-11T06:10:35.517578Z",
          "iopub.status.idle": "2021-09-11T06:10:35.679630Z",
          "shell.execute_reply.started": "2021-09-11T06:10:35.517538Z",
          "shell.execute_reply": "2021-09-11T06:10:35.678474Z"
        },
        "trusted": true,
        "id": "av-5WO3Jef_n",
        "colab": {
          "base_uri": "https://localhost:8080/"
        },
        "outputId": "c7a03b7e-f061-4c39-f9e9-3b9d73e08fbf"
      },
      "source": [
        "df['freq_qid1'] = df.groupby('qid1')['qid1'].transform('count') # where count is the function that would be applied to each group.\n",
        "df['freq_qid2'] = df.groupby('qid2')['qid2'].transform('count') \n",
        "\n",
        "print(df[['freq_qid1','freq_qid2']]) #  here 0th column  is Index of original data Frame"
      ],
      "execution_count": 31,
      "outputs": [
        {
          "output_type": "stream",
          "name": "stdout",
          "text": [
            "        freq_qid1  freq_qid2\n",
            "0               1          1\n",
            "1               4          1\n",
            "2               1          1\n",
            "3               1          1\n",
            "4               3          1\n",
            "...           ...        ...\n",
            "404285          2          2\n",
            "404286         12          1\n",
            "404287          1          1\n",
            "404288          1          1\n",
            "404289          1          1\n",
            "\n",
            "[404290 rows x 2 columns]\n"
          ]
        }
      ]
    },
    {
      "cell_type": "code",
      "metadata": {
        "execution": {
          "iopub.status.busy": "2021-09-11T06:10:35.681294Z",
          "iopub.execute_input": "2021-09-11T06:10:35.681701Z",
          "iopub.status.idle": "2021-09-11T06:10:36.321444Z",
          "shell.execute_reply.started": "2021-09-11T06:10:35.681659Z",
          "shell.execute_reply": "2021-09-11T06:10:36.320307Z"
        },
        "trusted": true,
        "id": "fhYTvqQGef_o"
      },
      "source": [
        "df['q1len'] = df['question1'].str.len() # length of the questions \n",
        "df['q2len'] = df['question2'].str.len()"
      ],
      "execution_count": 32,
      "outputs": []
    },
    {
      "cell_type": "markdown",
      "metadata": {
        "id": "VaoIXyWN3N4Z"
      },
      "source": [
        "**https://pandas.pydata.org/docs/reference/api/pandas.DataFrame.apply.html**"
      ]
    },
    {
      "cell_type": "code",
      "metadata": {
        "execution": {
          "iopub.status.busy": "2021-09-11T06:10:36.322669Z",
          "iopub.execute_input": "2021-09-11T06:10:36.322964Z",
          "iopub.status.idle": "2021-09-11T06:10:37.450395Z",
          "shell.execute_reply.started": "2021-09-11T06:10:36.322938Z",
          "shell.execute_reply": "2021-09-11T06:10:37.449367Z"
        },
        "trusted": true,
        "id": "cvKqoGWfef_p"
      },
      "source": [
        "df['q1_n_words'] = df['question1'].apply(lambda row : len(row.split(\" \")) ) # finding the number of words in a question\n",
        "df['q2_n_words'] = df['question2'].apply(lambda row : len(row.split(\" \")) )"
      ],
      "execution_count": 33,
      "outputs": []
    },
    {
      "cell_type": "code",
      "metadata": {
        "execution": {
          "iopub.status.busy": "2021-09-11T06:10:37.451685Z",
          "iopub.execute_input": "2021-09-11T06:10:37.451973Z",
          "iopub.status.idle": "2021-09-11T06:10:37.514372Z",
          "shell.execute_reply.started": "2021-09-11T06:10:37.451946Z",
          "shell.execute_reply": "2021-09-11T06:10:37.513336Z"
        },
        "trusted": true,
        "id": "7LAaMVVref_q",
        "colab": {
          "base_uri": "https://localhost:8080/",
          "height": 206
        },
        "outputId": "1c069fea-c08c-461c-c5da-7c2cb28a3c3e"
      },
      "source": [
        "df[['question1','q1len','freq_qid1','question2','q2len','freq_qid2']].head()"
      ],
      "execution_count": 34,
      "outputs": [
        {
          "output_type": "execute_result",
          "data": {
            "text/html": [
              "<div>\n",
              "<style scoped>\n",
              "    .dataframe tbody tr th:only-of-type {\n",
              "        vertical-align: middle;\n",
              "    }\n",
              "\n",
              "    .dataframe tbody tr th {\n",
              "        vertical-align: top;\n",
              "    }\n",
              "\n",
              "    .dataframe thead th {\n",
              "        text-align: right;\n",
              "    }\n",
              "</style>\n",
              "<table border=\"1\" class=\"dataframe\">\n",
              "  <thead>\n",
              "    <tr style=\"text-align: right;\">\n",
              "      <th></th>\n",
              "      <th>question1</th>\n",
              "      <th>q1len</th>\n",
              "      <th>freq_qid1</th>\n",
              "      <th>question2</th>\n",
              "      <th>q2len</th>\n",
              "      <th>freq_qid2</th>\n",
              "    </tr>\n",
              "  </thead>\n",
              "  <tbody>\n",
              "    <tr>\n",
              "      <th>0</th>\n",
              "      <td>What is the step by step guide to invest in sh...</td>\n",
              "      <td>66</td>\n",
              "      <td>1</td>\n",
              "      <td>What is the step by step guide to invest in sh...</td>\n",
              "      <td>57</td>\n",
              "      <td>1</td>\n",
              "    </tr>\n",
              "    <tr>\n",
              "      <th>1</th>\n",
              "      <td>What is the story of Kohinoor (Koh-i-Noor) Dia...</td>\n",
              "      <td>51</td>\n",
              "      <td>4</td>\n",
              "      <td>What would happen if the Indian government sto...</td>\n",
              "      <td>88</td>\n",
              "      <td>1</td>\n",
              "    </tr>\n",
              "    <tr>\n",
              "      <th>2</th>\n",
              "      <td>How can I increase the speed of my internet co...</td>\n",
              "      <td>73</td>\n",
              "      <td>1</td>\n",
              "      <td>How can Internet speed be increased by hacking...</td>\n",
              "      <td>59</td>\n",
              "      <td>1</td>\n",
              "    </tr>\n",
              "    <tr>\n",
              "      <th>3</th>\n",
              "      <td>Why am I mentally very lonely? How can I solve...</td>\n",
              "      <td>50</td>\n",
              "      <td>1</td>\n",
              "      <td>Find the remainder when [math]23^{24}[/math] i...</td>\n",
              "      <td>65</td>\n",
              "      <td>1</td>\n",
              "    </tr>\n",
              "    <tr>\n",
              "      <th>4</th>\n",
              "      <td>Which one dissolve in water quikly sugar, salt...</td>\n",
              "      <td>76</td>\n",
              "      <td>3</td>\n",
              "      <td>Which fish would survive in salt water?</td>\n",
              "      <td>39</td>\n",
              "      <td>1</td>\n",
              "    </tr>\n",
              "  </tbody>\n",
              "</table>\n",
              "</div>"
            ],
            "text/plain": [
              "                                           question1  q1len  ...  q2len freq_qid2\n",
              "0  What is the step by step guide to invest in sh...     66  ...     57         1\n",
              "1  What is the story of Kohinoor (Koh-i-Noor) Dia...     51  ...     88         1\n",
              "2  How can I increase the speed of my internet co...     73  ...     59         1\n",
              "3  Why am I mentally very lonely? How can I solve...     50  ...     65         1\n",
              "4  Which one dissolve in water quikly sugar, salt...     76  ...     39         1\n",
              "\n",
              "[5 rows x 6 columns]"
            ]
          },
          "metadata": {},
          "execution_count": 34
        }
      ]
    },
    {
      "cell_type": "code",
      "metadata": {
        "execution": {
          "iopub.status.busy": "2021-09-11T06:10:37.515586Z",
          "iopub.execute_input": "2021-09-11T06:10:37.515869Z",
          "iopub.status.idle": "2021-09-11T06:10:49.437835Z",
          "shell.execute_reply.started": "2021-09-11T06:10:37.515842Z",
          "shell.execute_reply": "2021-09-11T06:10:49.436942Z"
        },
        "trusted": true,
        "id": "hT8742R7ef_r"
      },
      "source": [
        "def normalized_word_Common(row):\n",
        "    \n",
        "    set1 = set( map ( lambda word : word.lower().strip() , row['question1'].split(\" \") ))\n",
        "    set2 = set( map ( lambda word : word.lower().strip() , row['question2'].split(\" \") ))\n",
        "    \n",
        "#     print(len(set1 and set2 ))\n",
        "#     print(len(set1  &  set2 ))        \n",
        "#     print(len(set1.intersection(set2)))\n",
        "    \n",
        "    return 1.0 * len(set1.intersection(set2))\n",
        "\n",
        "df['word_Common'] = df.apply(normalized_word_Common,axis = 1) # applying function along column"
      ],
      "execution_count": 35,
      "outputs": []
    },
    {
      "cell_type": "code",
      "metadata": {
        "execution": {
          "iopub.status.busy": "2021-09-11T06:10:49.439115Z",
          "iopub.execute_input": "2021-09-11T06:10:49.439384Z",
          "iopub.status.idle": "2021-09-11T06:10:49.456678Z",
          "shell.execute_reply.started": "2021-09-11T06:10:49.439358Z",
          "shell.execute_reply": "2021-09-11T06:10:49.455482Z"
        },
        "trusted": true,
        "id": "5LENmajBef_r",
        "colab": {
          "base_uri": "https://localhost:8080/",
          "height": 310
        },
        "outputId": "b27fcfa2-e21f-4d1c-a9ea-f3cb3b663a8e"
      },
      "source": [
        "df.head()"
      ],
      "execution_count": 36,
      "outputs": [
        {
          "output_type": "execute_result",
          "data": {
            "text/html": [
              "<div>\n",
              "<style scoped>\n",
              "    .dataframe tbody tr th:only-of-type {\n",
              "        vertical-align: middle;\n",
              "    }\n",
              "\n",
              "    .dataframe tbody tr th {\n",
              "        vertical-align: top;\n",
              "    }\n",
              "\n",
              "    .dataframe thead th {\n",
              "        text-align: right;\n",
              "    }\n",
              "</style>\n",
              "<table border=\"1\" class=\"dataframe\">\n",
              "  <thead>\n",
              "    <tr style=\"text-align: right;\">\n",
              "      <th></th>\n",
              "      <th>id</th>\n",
              "      <th>qid1</th>\n",
              "      <th>qid2</th>\n",
              "      <th>question1</th>\n",
              "      <th>question2</th>\n",
              "      <th>is_duplicate</th>\n",
              "      <th>freq_qid1</th>\n",
              "      <th>freq_qid2</th>\n",
              "      <th>q1len</th>\n",
              "      <th>q2len</th>\n",
              "      <th>q1_n_words</th>\n",
              "      <th>q2_n_words</th>\n",
              "      <th>word_Common</th>\n",
              "    </tr>\n",
              "  </thead>\n",
              "  <tbody>\n",
              "    <tr>\n",
              "      <th>0</th>\n",
              "      <td>0</td>\n",
              "      <td>1</td>\n",
              "      <td>2</td>\n",
              "      <td>What is the step by step guide to invest in sh...</td>\n",
              "      <td>What is the step by step guide to invest in sh...</td>\n",
              "      <td>0</td>\n",
              "      <td>1</td>\n",
              "      <td>1</td>\n",
              "      <td>66</td>\n",
              "      <td>57</td>\n",
              "      <td>14</td>\n",
              "      <td>12</td>\n",
              "      <td>10.0</td>\n",
              "    </tr>\n",
              "    <tr>\n",
              "      <th>1</th>\n",
              "      <td>1</td>\n",
              "      <td>3</td>\n",
              "      <td>4</td>\n",
              "      <td>What is the story of Kohinoor (Koh-i-Noor) Dia...</td>\n",
              "      <td>What would happen if the Indian government sto...</td>\n",
              "      <td>0</td>\n",
              "      <td>4</td>\n",
              "      <td>1</td>\n",
              "      <td>51</td>\n",
              "      <td>88</td>\n",
              "      <td>8</td>\n",
              "      <td>13</td>\n",
              "      <td>4.0</td>\n",
              "    </tr>\n",
              "    <tr>\n",
              "      <th>2</th>\n",
              "      <td>2</td>\n",
              "      <td>5</td>\n",
              "      <td>6</td>\n",
              "      <td>How can I increase the speed of my internet co...</td>\n",
              "      <td>How can Internet speed be increased by hacking...</td>\n",
              "      <td>0</td>\n",
              "      <td>1</td>\n",
              "      <td>1</td>\n",
              "      <td>73</td>\n",
              "      <td>59</td>\n",
              "      <td>14</td>\n",
              "      <td>10</td>\n",
              "      <td>4.0</td>\n",
              "    </tr>\n",
              "    <tr>\n",
              "      <th>3</th>\n",
              "      <td>3</td>\n",
              "      <td>7</td>\n",
              "      <td>8</td>\n",
              "      <td>Why am I mentally very lonely? How can I solve...</td>\n",
              "      <td>Find the remainder when [math]23^{24}[/math] i...</td>\n",
              "      <td>0</td>\n",
              "      <td>1</td>\n",
              "      <td>1</td>\n",
              "      <td>50</td>\n",
              "      <td>65</td>\n",
              "      <td>11</td>\n",
              "      <td>9</td>\n",
              "      <td>0.0</td>\n",
              "    </tr>\n",
              "    <tr>\n",
              "      <th>4</th>\n",
              "      <td>4</td>\n",
              "      <td>9</td>\n",
              "      <td>10</td>\n",
              "      <td>Which one dissolve in water quikly sugar, salt...</td>\n",
              "      <td>Which fish would survive in salt water?</td>\n",
              "      <td>0</td>\n",
              "      <td>3</td>\n",
              "      <td>1</td>\n",
              "      <td>76</td>\n",
              "      <td>39</td>\n",
              "      <td>13</td>\n",
              "      <td>7</td>\n",
              "      <td>2.0</td>\n",
              "    </tr>\n",
              "  </tbody>\n",
              "</table>\n",
              "</div>"
            ],
            "text/plain": [
              "   id  qid1  qid2  ... q1_n_words q2_n_words  word_Common\n",
              "0   0     1     2  ...         14         12         10.0\n",
              "1   1     3     4  ...          8         13          4.0\n",
              "2   2     5     6  ...         14         10          4.0\n",
              "3   3     7     8  ...         11          9          0.0\n",
              "4   4     9    10  ...         13          7          2.0\n",
              "\n",
              "[5 rows x 13 columns]"
            ]
          },
          "metadata": {},
          "execution_count": 36
        }
      ]
    },
    {
      "cell_type": "code",
      "metadata": {
        "execution": {
          "iopub.status.busy": "2021-09-11T06:10:49.458188Z",
          "iopub.execute_input": "2021-09-11T06:10:49.458570Z",
          "iopub.status.idle": "2021-09-11T06:11:00.829198Z",
          "shell.execute_reply.started": "2021-09-11T06:10:49.458540Z",
          "shell.execute_reply": "2021-09-11T06:11:00.828117Z"
        },
        "trusted": true,
        "id": "AWLB2z9gef_s"
      },
      "source": [
        "def normalized_word_Total(row):\n",
        "    \n",
        "    set1 = set( map(lambda word : word.lower().strip(), row['question1'].split(\" \")))\n",
        "    set2 = set( map(lambda word : word.lower().strip(), row['question2'].split(\" \")))\n",
        "    \n",
        "    return 1.0 * ( len(set1) + len(set2) )\n",
        "\n",
        "df['word_Total'] = df.apply(normalized_word_Total,axis = 1)"
      ],
      "execution_count": 37,
      "outputs": []
    },
    {
      "cell_type": "code",
      "metadata": {
        "execution": {
          "iopub.status.busy": "2021-09-11T06:11:00.830515Z",
          "iopub.execute_input": "2021-09-11T06:11:00.830852Z",
          "iopub.status.idle": "2021-09-11T06:11:00.848236Z",
          "shell.execute_reply.started": "2021-09-11T06:11:00.830819Z",
          "shell.execute_reply": "2021-09-11T06:11:00.847115Z"
        },
        "trusted": true,
        "id": "0gsp_F0Cef_s",
        "colab": {
          "base_uri": "https://localhost:8080/",
          "height": 181
        },
        "outputId": "050153e1-4981-4661-ba3d-00414d07459d"
      },
      "source": [
        "df.head(2)"
      ],
      "execution_count": 38,
      "outputs": [
        {
          "output_type": "execute_result",
          "data": {
            "text/html": [
              "<div>\n",
              "<style scoped>\n",
              "    .dataframe tbody tr th:only-of-type {\n",
              "        vertical-align: middle;\n",
              "    }\n",
              "\n",
              "    .dataframe tbody tr th {\n",
              "        vertical-align: top;\n",
              "    }\n",
              "\n",
              "    .dataframe thead th {\n",
              "        text-align: right;\n",
              "    }\n",
              "</style>\n",
              "<table border=\"1\" class=\"dataframe\">\n",
              "  <thead>\n",
              "    <tr style=\"text-align: right;\">\n",
              "      <th></th>\n",
              "      <th>id</th>\n",
              "      <th>qid1</th>\n",
              "      <th>qid2</th>\n",
              "      <th>question1</th>\n",
              "      <th>question2</th>\n",
              "      <th>is_duplicate</th>\n",
              "      <th>freq_qid1</th>\n",
              "      <th>freq_qid2</th>\n",
              "      <th>q1len</th>\n",
              "      <th>q2len</th>\n",
              "      <th>q1_n_words</th>\n",
              "      <th>q2_n_words</th>\n",
              "      <th>word_Common</th>\n",
              "      <th>word_Total</th>\n",
              "    </tr>\n",
              "  </thead>\n",
              "  <tbody>\n",
              "    <tr>\n",
              "      <th>0</th>\n",
              "      <td>0</td>\n",
              "      <td>1</td>\n",
              "      <td>2</td>\n",
              "      <td>What is the step by step guide to invest in sh...</td>\n",
              "      <td>What is the step by step guide to invest in sh...</td>\n",
              "      <td>0</td>\n",
              "      <td>1</td>\n",
              "      <td>1</td>\n",
              "      <td>66</td>\n",
              "      <td>57</td>\n",
              "      <td>14</td>\n",
              "      <td>12</td>\n",
              "      <td>10.0</td>\n",
              "      <td>23.0</td>\n",
              "    </tr>\n",
              "    <tr>\n",
              "      <th>1</th>\n",
              "      <td>1</td>\n",
              "      <td>3</td>\n",
              "      <td>4</td>\n",
              "      <td>What is the story of Kohinoor (Koh-i-Noor) Dia...</td>\n",
              "      <td>What would happen if the Indian government sto...</td>\n",
              "      <td>0</td>\n",
              "      <td>4</td>\n",
              "      <td>1</td>\n",
              "      <td>51</td>\n",
              "      <td>88</td>\n",
              "      <td>8</td>\n",
              "      <td>13</td>\n",
              "      <td>4.0</td>\n",
              "      <td>20.0</td>\n",
              "    </tr>\n",
              "  </tbody>\n",
              "</table>\n",
              "</div>"
            ],
            "text/plain": [
              "   id  qid1  qid2  ... q2_n_words word_Common  word_Total\n",
              "0   0     1     2  ...         12        10.0        23.0\n",
              "1   1     3     4  ...         13         4.0        20.0\n",
              "\n",
              "[2 rows x 14 columns]"
            ]
          },
          "metadata": {},
          "execution_count": 38
        }
      ]
    },
    {
      "cell_type": "code",
      "metadata": {
        "execution": {
          "iopub.status.busy": "2021-09-11T06:11:00.849536Z",
          "iopub.execute_input": "2021-09-11T06:11:00.849868Z",
          "iopub.status.idle": "2021-09-11T06:11:12.924836Z",
          "shell.execute_reply.started": "2021-09-11T06:11:00.849839Z",
          "shell.execute_reply": "2021-09-11T06:11:12.923805Z"
        },
        "trusted": true,
        "id": "gntHROMnef_t"
      },
      "source": [
        "def normalized_word_share(row):\n",
        "    \n",
        "    set1 = set( map(lambda word : word.lower().strip(), row['question1'].split() ))\n",
        "    set2 = set( map(lambda word : word.lower().strip(), row['question2'].split() ))\n",
        "    \n",
        "    return 1.0 *  ( len(set1 & set2) )/( len(set1) + len(set2) )  \n",
        "\n",
        "df['word_share'] = df.apply(normalized_word_share,axis = 1)"
      ],
      "execution_count": 39,
      "outputs": []
    },
    {
      "cell_type": "code",
      "metadata": {
        "execution": {
          "iopub.status.busy": "2021-09-11T06:11:12.926120Z",
          "iopub.execute_input": "2021-09-11T06:11:12.926418Z",
          "iopub.status.idle": "2021-09-11T06:11:12.942051Z",
          "shell.execute_reply.started": "2021-09-11T06:11:12.926391Z",
          "shell.execute_reply": "2021-09-11T06:11:12.941272Z"
        },
        "trusted": true,
        "id": "4mTCaErwef_t",
        "colab": {
          "base_uri": "https://localhost:8080/",
          "height": 251
        },
        "outputId": "17f1d30f-6dae-44d8-c805-25af943a811f"
      },
      "source": [
        "df.head(2)"
      ],
      "execution_count": 40,
      "outputs": [
        {
          "output_type": "execute_result",
          "data": {
            "text/html": [
              "<div>\n",
              "<style scoped>\n",
              "    .dataframe tbody tr th:only-of-type {\n",
              "        vertical-align: middle;\n",
              "    }\n",
              "\n",
              "    .dataframe tbody tr th {\n",
              "        vertical-align: top;\n",
              "    }\n",
              "\n",
              "    .dataframe thead th {\n",
              "        text-align: right;\n",
              "    }\n",
              "</style>\n",
              "<table border=\"1\" class=\"dataframe\">\n",
              "  <thead>\n",
              "    <tr style=\"text-align: right;\">\n",
              "      <th></th>\n",
              "      <th>id</th>\n",
              "      <th>qid1</th>\n",
              "      <th>qid2</th>\n",
              "      <th>question1</th>\n",
              "      <th>question2</th>\n",
              "      <th>is_duplicate</th>\n",
              "      <th>freq_qid1</th>\n",
              "      <th>freq_qid2</th>\n",
              "      <th>q1len</th>\n",
              "      <th>q2len</th>\n",
              "      <th>q1_n_words</th>\n",
              "      <th>q2_n_words</th>\n",
              "      <th>word_Common</th>\n",
              "      <th>word_Total</th>\n",
              "      <th>word_share</th>\n",
              "    </tr>\n",
              "  </thead>\n",
              "  <tbody>\n",
              "    <tr>\n",
              "      <th>0</th>\n",
              "      <td>0</td>\n",
              "      <td>1</td>\n",
              "      <td>2</td>\n",
              "      <td>What is the step by step guide to invest in sh...</td>\n",
              "      <td>What is the step by step guide to invest in sh...</td>\n",
              "      <td>0</td>\n",
              "      <td>1</td>\n",
              "      <td>1</td>\n",
              "      <td>66</td>\n",
              "      <td>57</td>\n",
              "      <td>14</td>\n",
              "      <td>12</td>\n",
              "      <td>10.0</td>\n",
              "      <td>23.0</td>\n",
              "      <td>0.434783</td>\n",
              "    </tr>\n",
              "    <tr>\n",
              "      <th>1</th>\n",
              "      <td>1</td>\n",
              "      <td>3</td>\n",
              "      <td>4</td>\n",
              "      <td>What is the story of Kohinoor (Koh-i-Noor) Dia...</td>\n",
              "      <td>What would happen if the Indian government sto...</td>\n",
              "      <td>0</td>\n",
              "      <td>4</td>\n",
              "      <td>1</td>\n",
              "      <td>51</td>\n",
              "      <td>88</td>\n",
              "      <td>8</td>\n",
              "      <td>13</td>\n",
              "      <td>4.0</td>\n",
              "      <td>20.0</td>\n",
              "      <td>0.200000</td>\n",
              "    </tr>\n",
              "  </tbody>\n",
              "</table>\n",
              "</div>"
            ],
            "text/plain": [
              "   id  qid1  qid2  ... word_Common word_Total  word_share\n",
              "0   0     1     2  ...        10.0       23.0    0.434783\n",
              "1   1     3     4  ...         4.0       20.0    0.200000\n",
              "\n",
              "[2 rows x 15 columns]"
            ]
          },
          "metadata": {},
          "execution_count": 40
        }
      ]
    },
    {
      "cell_type": "code",
      "metadata": {
        "execution": {
          "iopub.status.busy": "2021-09-11T06:11:12.943141Z",
          "iopub.execute_input": "2021-09-11T06:11:12.943537Z",
          "iopub.status.idle": "2021-09-11T06:11:12.977820Z",
          "shell.execute_reply.started": "2021-09-11T06:11:12.943507Z",
          "shell.execute_reply": "2021-09-11T06:11:12.976688Z"
        },
        "trusted": true,
        "id": "-7LbHiUDef_u",
        "colab": {
          "base_uri": "https://localhost:8080/",
          "height": 660
        },
        "outputId": "ff43ccd7-e8e1-46f9-fe74-183d6d9aa62d"
      },
      "source": [
        "df['freq_q1+q2'] =      df['freq_qid1'] + df['freq_qid2']\n",
        "df['freq_q1-q2'] = abs( df['freq_qid1'] - df['freq_qid2'] )\n",
        "df.head()"
      ],
      "execution_count": 41,
      "outputs": [
        {
          "output_type": "execute_result",
          "data": {
            "text/html": [
              "<div>\n",
              "<style scoped>\n",
              "    .dataframe tbody tr th:only-of-type {\n",
              "        vertical-align: middle;\n",
              "    }\n",
              "\n",
              "    .dataframe tbody tr th {\n",
              "        vertical-align: top;\n",
              "    }\n",
              "\n",
              "    .dataframe thead th {\n",
              "        text-align: right;\n",
              "    }\n",
              "</style>\n",
              "<table border=\"1\" class=\"dataframe\">\n",
              "  <thead>\n",
              "    <tr style=\"text-align: right;\">\n",
              "      <th></th>\n",
              "      <th>id</th>\n",
              "      <th>qid1</th>\n",
              "      <th>qid2</th>\n",
              "      <th>question1</th>\n",
              "      <th>question2</th>\n",
              "      <th>is_duplicate</th>\n",
              "      <th>freq_qid1</th>\n",
              "      <th>freq_qid2</th>\n",
              "      <th>q1len</th>\n",
              "      <th>q2len</th>\n",
              "      <th>q1_n_words</th>\n",
              "      <th>q2_n_words</th>\n",
              "      <th>word_Common</th>\n",
              "      <th>word_Total</th>\n",
              "      <th>word_share</th>\n",
              "      <th>freq_q1+q2</th>\n",
              "      <th>freq_q1-q2</th>\n",
              "    </tr>\n",
              "  </thead>\n",
              "  <tbody>\n",
              "    <tr>\n",
              "      <th>0</th>\n",
              "      <td>0</td>\n",
              "      <td>1</td>\n",
              "      <td>2</td>\n",
              "      <td>What is the step by step guide to invest in sh...</td>\n",
              "      <td>What is the step by step guide to invest in sh...</td>\n",
              "      <td>0</td>\n",
              "      <td>1</td>\n",
              "      <td>1</td>\n",
              "      <td>66</td>\n",
              "      <td>57</td>\n",
              "      <td>14</td>\n",
              "      <td>12</td>\n",
              "      <td>10.0</td>\n",
              "      <td>23.0</td>\n",
              "      <td>0.434783</td>\n",
              "      <td>2</td>\n",
              "      <td>0</td>\n",
              "    </tr>\n",
              "    <tr>\n",
              "      <th>1</th>\n",
              "      <td>1</td>\n",
              "      <td>3</td>\n",
              "      <td>4</td>\n",
              "      <td>What is the story of Kohinoor (Koh-i-Noor) Dia...</td>\n",
              "      <td>What would happen if the Indian government sto...</td>\n",
              "      <td>0</td>\n",
              "      <td>4</td>\n",
              "      <td>1</td>\n",
              "      <td>51</td>\n",
              "      <td>88</td>\n",
              "      <td>8</td>\n",
              "      <td>13</td>\n",
              "      <td>4.0</td>\n",
              "      <td>20.0</td>\n",
              "      <td>0.200000</td>\n",
              "      <td>5</td>\n",
              "      <td>3</td>\n",
              "    </tr>\n",
              "    <tr>\n",
              "      <th>2</th>\n",
              "      <td>2</td>\n",
              "      <td>5</td>\n",
              "      <td>6</td>\n",
              "      <td>How can I increase the speed of my internet co...</td>\n",
              "      <td>How can Internet speed be increased by hacking...</td>\n",
              "      <td>0</td>\n",
              "      <td>1</td>\n",
              "      <td>1</td>\n",
              "      <td>73</td>\n",
              "      <td>59</td>\n",
              "      <td>14</td>\n",
              "      <td>10</td>\n",
              "      <td>4.0</td>\n",
              "      <td>24.0</td>\n",
              "      <td>0.166667</td>\n",
              "      <td>2</td>\n",
              "      <td>0</td>\n",
              "    </tr>\n",
              "    <tr>\n",
              "      <th>3</th>\n",
              "      <td>3</td>\n",
              "      <td>7</td>\n",
              "      <td>8</td>\n",
              "      <td>Why am I mentally very lonely? How can I solve...</td>\n",
              "      <td>Find the remainder when [math]23^{24}[/math] i...</td>\n",
              "      <td>0</td>\n",
              "      <td>1</td>\n",
              "      <td>1</td>\n",
              "      <td>50</td>\n",
              "      <td>65</td>\n",
              "      <td>11</td>\n",
              "      <td>9</td>\n",
              "      <td>0.0</td>\n",
              "      <td>19.0</td>\n",
              "      <td>0.000000</td>\n",
              "      <td>2</td>\n",
              "      <td>0</td>\n",
              "    </tr>\n",
              "    <tr>\n",
              "      <th>4</th>\n",
              "      <td>4</td>\n",
              "      <td>9</td>\n",
              "      <td>10</td>\n",
              "      <td>Which one dissolve in water quikly sugar, salt...</td>\n",
              "      <td>Which fish would survive in salt water?</td>\n",
              "      <td>0</td>\n",
              "      <td>3</td>\n",
              "      <td>1</td>\n",
              "      <td>76</td>\n",
              "      <td>39</td>\n",
              "      <td>13</td>\n",
              "      <td>7</td>\n",
              "      <td>2.0</td>\n",
              "      <td>20.0</td>\n",
              "      <td>0.100000</td>\n",
              "      <td>4</td>\n",
              "      <td>2</td>\n",
              "    </tr>\n",
              "  </tbody>\n",
              "</table>\n",
              "</div>"
            ],
            "text/plain": [
              "   id  qid1  qid2  ... word_share freq_q1+q2  freq_q1-q2\n",
              "0   0     1     2  ...   0.434783          2           0\n",
              "1   1     3     4  ...   0.200000          5           3\n",
              "2   2     5     6  ...   0.166667          2           0\n",
              "3   3     7     8  ...   0.000000          2           0\n",
              "4   4     9    10  ...   0.100000          4           2\n",
              "\n",
              "[5 rows x 17 columns]"
            ]
          },
          "metadata": {},
          "execution_count": 41
        }
      ]
    },
    {
      "cell_type": "markdown",
      "metadata": {
        "id": "ApZKRy92ef_u"
      },
      "source": [
        "##  3.3.1 Analysis of some of the extracted features "
      ]
    },
    {
      "cell_type": "code",
      "metadata": {
        "execution": {
          "iopub.status.busy": "2021-09-11T06:11:12.979043Z",
          "iopub.execute_input": "2021-09-11T06:11:12.979342Z",
          "iopub.status.idle": "2021-09-11T06:11:13.102406Z",
          "shell.execute_reply.started": "2021-09-11T06:11:12.979316Z",
          "shell.execute_reply": "2021-09-11T06:11:13.101396Z"
        },
        "trusted": true,
        "id": "gISPdk9Fef_v"
      },
      "source": [
        "print(\" Minimum Length of the Questions in question1 :- \", min(df['q1_n_words']) )\n",
        "print(\" Minimum Length of the Questions in question2 :- \", min(df['q2_n_words']) )"
      ],
      "execution_count": 42,
      "outputs": []
    },
    {
      "cell_type": "code",
      "metadata": {
        "colab": {
          "base_uri": "https://localhost:8080/"
        },
        "id": "YQqgGvvF5HgN",
        "outputId": "9c64a359-2021-43fb-e7fc-391d9e99541c"
      },
      "source": [
        "print(\" Maximum Length of the Questions in question1 :- \", max(df['q1_n_words']) )\n",
        "print(\" Maximum Length of the Questions in question2 :- \", max(df['q2_n_words']) )"
      ],
      "execution_count": 43,
      "outputs": [
        {
          "output_type": "stream",
          "name": "stdout",
          "text": [
            " Maximum Length of the Questions in question1 :-  125\n",
            " Maximum Length of the Questions in question2 :-  237\n"
          ]
        }
      ]
    },
    {
      "cell_type": "code",
      "metadata": {
        "execution": {
          "iopub.status.busy": "2021-09-11T06:11:13.103680Z",
          "iopub.execute_input": "2021-09-11T06:11:13.104007Z",
          "iopub.status.idle": "2021-09-11T06:11:13.318799Z",
          "shell.execute_reply.started": "2021-09-11T06:11:13.103976Z",
          "shell.execute_reply": "2021-09-11T06:11:13.317963Z"
        },
        "trusted": true,
        "id": "hTA6az66ef_v",
        "outputId": "aa13924b-bcca-4d2a-f481-b2fa0a59a008"
      },
      "source": [
        "# let's check how many such questions are there \n",
        "\n",
        "print(\"Number of Questions with Minimum Length [question1] :- \", df[df['q1_n_words'] == 1].shape[0] ) # can also be done with apply method.\n",
        "print(\"Number of Questions with Minimum Length [question2] :- \", sum(df['q2_n_words'].apply(lambda x: True if x == 1 else False)) )"
      ],
      "execution_count": null,
      "outputs": [
        {
          "output_type": "stream",
          "name": "stdout",
          "text": [
            "Number of Questions with Minimum Length [question1] :-  67\n",
            "Number of Questions with Minimum Length [question2] :-  24\n"
          ]
        }
      ]
    },
    {
      "cell_type": "markdown",
      "metadata": {
        "id": "JqCWx9kUef_v"
      },
      "source": [
        "## Feature Selection "
      ]
    },
    {
      "cell_type": "markdown",
      "metadata": {
        "id": "_85x48WYef_w"
      },
      "source": [
        "<h4> Feature: word_share </h4>"
      ]
    },
    {
      "cell_type": "code",
      "metadata": {
        "execution": {
          "iopub.status.busy": "2021-09-11T06:11:13.319975Z",
          "iopub.execute_input": "2021-09-11T06:11:13.320451Z",
          "iopub.status.idle": "2021-09-11T06:11:14.832903Z",
          "shell.execute_reply.started": "2021-09-11T06:11:13.320409Z",
          "shell.execute_reply": "2021-09-11T06:11:14.831833Z"
        },
        "trusted": true,
        "id": "ikC9NQ5cef_w",
        "outputId": "c758b3e8-5349-4e2a-8567-c8a5b0fac945"
      },
      "source": [
        "plt.figure( figsize = (12,6) )\n",
        "\n",
        "plt.subplot(1,2,1) # Divide figure in 1*2 number of subplots with 1 row and 2 columns (1,2,1) means 1 row 2 column \n",
        "sns.boxplot(x = 'is_duplicate',y = 'word_share',data = df)                           # and figure to be plotted in firsr cell.\n",
        "\n",
        "\n",
        "plt.subplot(1,2,2) # figure would be plotted in 2nd cell\n",
        "sns.violinplot(x = 'is_duplicate',y = 'word_share',data = df)"
      ],
      "execution_count": null,
      "outputs": [
        {
          "output_type": "execute_result",
          "data": {
            "text/plain": [
              "<AxesSubplot:xlabel='is_duplicate', ylabel='word_share'>"
            ]
          },
          "metadata": {},
          "execution_count": 169
        },
        {
          "output_type": "display_data",
          "data": {
            "image/png": "[encoded data removed]",
            "text/plain": [
              "<Figure size 864x432 with 2 Axes>"
            ]
          },
          "metadata": {
            "needs_background": "light"
          }
        }
      ]
    },
    {
      "cell_type": "markdown",
      "metadata": {
        "id": "0n590KGWef_w"
      },
      "source": [
        "The boxes in Box-Plot are not overlapping perfectly.Hence Indication of words_share beaing a good feature"
      ]
    },
    {
      "cell_type": "code",
      "metadata": {
        "execution": {
          "iopub.status.busy": "2021-09-11T06:11:14.834189Z",
          "iopub.execute_input": "2021-09-11T06:11:14.834476Z",
          "iopub.status.idle": "2021-09-11T06:11:17.665734Z",
          "shell.execute_reply.started": "2021-09-11T06:11:14.834445Z",
          "shell.execute_reply": "2021-09-11T06:11:17.664627Z"
        },
        "trusted": true,
        "id": "XMEgkcScef_x",
        "colab": {
          "base_uri": "https://localhost:8080/",
          "height": 721
        },
        "outputId": "8a5ca8a6-3263-4476-a1c7-1a65e8c4572c"
      },
      "source": [
        "sns.displot(df[df['is_duplicate'] == 1.0] , x = 'word_share',color = 'green',kind  = 'kde') \n",
        "sns.displot(df[df['is_duplicate'] == 0.0] , x = 'word_share',color = 'blue', kde = True) # it's tough to distinguish both using this plot\n",
        "\n",
        "plt.show()"
      ],
      "execution_count": 44,
      "outputs": [
        {
          "output_type": "display_data",
          "data": {
            "image/png": "[encoded data removed]",
            "text/plain": [
              "<Figure size 360x360 with 1 Axes>"
            ]
          },
          "metadata": {
            "needs_background": "light"
          }
        },
        {
          "output_type": "display_data",
          "data": {
            "image/png": "[encoded data removed]",
            "text/plain": [
              "<Figure size 360x360 with 1 Axes>"
            ]
          },
          "metadata": {
            "needs_background": "light"
          }
        }
      ]
    },
    {
      "cell_type": "code",
      "metadata": {
        "execution": {
          "iopub.status.busy": "2021-09-11T06:11:17.667313Z",
          "iopub.execute_input": "2021-09-11T06:11:17.667657Z",
          "iopub.status.idle": "2021-09-11T06:11:20.186151Z",
          "shell.execute_reply.started": "2021-09-11T06:11:17.667628Z",
          "shell.execute_reply": "2021-09-11T06:11:20.185097Z"
        },
        "trusted": true,
        "id": "UGtF7_kAef_x",
        "colab": {
          "base_uri": "https://localhost:8080/",
          "height": 280
        },
        "outputId": "aa0d1436-bdd5-497a-feb4-82dc7a5eb991"
      },
      "source": [
        "sns.distplot(df[df['is_duplicate'] == 1.0]['word_share'], color = 'red' ) # get me the word_share wherever is_duplicate == 1\n",
        "sns.distplot(df[df['is_duplicate'] == 0.0]['word_share'], color = 'blue')\n",
        "\n",
        "plt.show()\n",
        "# we know lesser the overlap between the features better it is to distinguih them.\n",
        "# in worst case overlap would be high and in best case overlap would be very very low"
      ],
      "execution_count": 47,
      "outputs": [
        {
          "output_type": "display_data",
          "data": {
            "image/png": "[encoded data removed]",
            "text/plain": [
              "<Figure size 432x288 with 1 Axes>"
            ]
          },
          "metadata": {
            "needs_background": "light"
          }
        }
      ]
    },
    {
      "cell_type": "markdown",
      "metadata": {
        "id": "iAlIJVxcef_x"
      },
      "source": [
        "- The distributions for normalized word_share have some overlap on the far right-hand side, i.e., there are quite a lot of questions with high word similarity\n",
        "- The average word share and Common no. of words of qid1 and qid2 is more when they are duplicate(Similar)"
      ]
    },
    {
      "cell_type": "markdown",
      "metadata": {
        "id": "pxMsFsVyef_y"
      },
      "source": [
        "<h4> Feature:- word_Common </h4>"
      ]
    },
    {
      "cell_type": "code",
      "metadata": {
        "execution": {
          "iopub.status.busy": "2021-09-11T06:11:20.187375Z",
          "iopub.execute_input": "2021-09-11T06:11:20.187666Z",
          "iopub.status.idle": "2021-09-11T06:11:21.630988Z",
          "shell.execute_reply.started": "2021-09-11T06:11:20.187639Z",
          "shell.execute_reply": "2021-09-11T06:11:21.629857Z"
        },
        "trusted": true,
        "id": "vEtYFqEBef_y",
        "colab": {
          "base_uri": "https://localhost:8080/",
          "height": 407
        },
        "outputId": "3be3c132-d350-4481-8bbb-68f76e2841c1"
      },
      "source": [
        "plt.figure(figsize = (12,6))\n",
        "\n",
        "plt.subplot(1,2,1)\n",
        "sns.boxplot(x = 'is_duplicate',y = 'word_Common',data = df)\n",
        "\n",
        "plt.subplot(1,2,2)\n",
        "sns.violinplot(x = 'is_duplicate',y = 'word_Common',data = df)"
      ],
      "execution_count": 48,
      "outputs": [
        {
          "output_type": "execute_result",
          "data": {
            "text/plain": [
              "<matplotlib.axes._subplots.AxesSubplot at 0x7fb5f89dedd0>"
            ]
          },
          "metadata": {},
          "execution_count": 48
        },
        {
          "output_type": "display_data",
          "data": {
            "image/png": "[encoded data removed]",
            "text/plain": [
              "<Figure size 864x432 with 2 Axes>"
            ]
          },
          "metadata": {
            "needs_background": "light"
          }
        }
      ]
    },
    {
      "cell_type": "markdown",
      "metadata": {
        "id": "1iK3NYxtef_z"
      },
      "source": [
        "The boxes in Box-plot are more overlaping than boxes in Box-plot of feature word_Common.\n",
        "\n",
        "compare the Violin plots of both word_share and word_Common, we see it's harder to separate classes (0/1) using feature word_common due to\n",
        "high overlap."
      ]
    },
    {
      "cell_type": "code",
      "metadata": {
        "execution": {
          "iopub.status.busy": "2021-09-11T06:11:21.632596Z",
          "iopub.execute_input": "2021-09-11T06:11:21.633017Z",
          "iopub.status.idle": "2021-09-11T06:11:24.033457Z",
          "shell.execute_reply.started": "2021-09-11T06:11:21.632977Z",
          "shell.execute_reply": "2021-09-11T06:11:24.032246Z"
        },
        "trusted": true,
        "id": "eyTvqvaAef_0",
        "colab": {
          "base_uri": "https://localhost:8080/",
          "height": 739
        },
        "outputId": "9039cb71-d8a7-414c-8782-86a7368d2d59"
      },
      "source": [
        "sns.displot(df[df['is_duplicate'] == 1.0], x = 'word_Common',kind = 'kde',color = 'red')\n",
        "sns.displot(df[df['is_duplicate'] == 0.0], x = 'word_Common',kind = 'kde',color = 'green')"
      ],
      "execution_count": 49,
      "outputs": [
        {
          "output_type": "execute_result",
          "data": {
            "text/plain": [
              "<seaborn.axisgrid.FacetGrid at 0x7fb5f4c58e50>"
            ]
          },
          "metadata": {},
          "execution_count": 49
        },
        {
          "output_type": "display_data",
          "data": {
            "image/png": "[encoded data removed]",
            "text/plain": [
              "<Figure size 360x360 with 1 Axes>"
            ]
          },
          "metadata": {
            "needs_background": "light"
          }
        },
        {
          "output_type": "display_data",
          "data": {
            "image/png": "[encoded data removed]",
            "text/plain": [
              "<Figure size 360x360 with 1 Axes>"
            ]
          },
          "metadata": {
            "needs_background": "light"
          }
        }
      ]
    },
    {
      "cell_type": "code",
      "metadata": {
        "execution": {
          "iopub.status.busy": "2021-09-11T06:11:24.035019Z",
          "iopub.execute_input": "2021-09-11T06:11:24.035463Z",
          "iopub.status.idle": "2021-09-11T06:11:26.679494Z",
          "shell.execute_reply.started": "2021-09-11T06:11:24.035410Z",
          "shell.execute_reply": "2021-09-11T06:11:26.678355Z"
        },
        "trusted": true,
        "id": "8vSMkRpqef_1",
        "colab": {
          "base_uri": "https://localhost:8080/",
          "height": 297
        },
        "outputId": "4f8f8e23-3ed0-4481-87c0-9b440ed80aec"
      },
      "source": [
        "sns.distplot(df[ df['is_duplicate'] == 1.0 ]['word_Common'],color = 'red')\n",
        "sns.distplot(df[ df['is_duplicate'] == 0.0 ]['word_Common'],color = 'green')"
      ],
      "execution_count": 50,
      "outputs": [
        {
          "output_type": "execute_result",
          "data": {
            "text/plain": [
              "<matplotlib.axes._subplots.AxesSubplot at 0x7fb5f85ba950>"
            ]
          },
          "metadata": {},
          "execution_count": 50
        },
        {
          "output_type": "display_data",
          "data": {
            "image/png": "[encoded data removed]",
            "text/plain": [
              "<Figure size 432x288 with 1 Axes>"
            ]
          },
          "metadata": {
            "needs_background": "light"
          }
        }
      ]
    },
    {
      "cell_type": "markdown",
      "metadata": {
        "id": "MKxpa13qef_2"
      },
      "source": [
        "The distributions of the word_Common feature in similar and non-similar questions are highly overlapping."
      ]
    },
    {
      "cell_type": "markdown",
      "metadata": {
        "id": "m_c0gc2Mef_3"
      },
      "source": [
        "<h4> Feature :- freq_qid1 </h4>"
      ]
    },
    {
      "cell_type": "code",
      "metadata": {
        "execution": {
          "iopub.status.busy": "2021-09-11T06:11:26.680741Z",
          "iopub.execute_input": "2021-09-11T06:11:26.681060Z",
          "iopub.status.idle": "2021-09-11T06:11:28.151960Z",
          "shell.execute_reply.started": "2021-09-11T06:11:26.681031Z",
          "shell.execute_reply": "2021-09-11T06:11:28.150927Z"
        },
        "trusted": true,
        "id": "NwV0cVKaef_3",
        "colab": {
          "base_uri": "https://localhost:8080/",
          "height": 407
        },
        "outputId": "c587ca29-4080-4ab2-cf5c-08795dc3b0d0"
      },
      "source": [
        "plt.figure(figsize = (12,6))\n",
        "\n",
        "plt.subplot(1,2,1)\n",
        "sns.boxplot(x = 'is_duplicate',y = 'freq_qid1',data = df)\n",
        "\n",
        "plt.subplot(1,2,2)\n",
        "sns.violinplot(x = 'is_duplicate',y = 'freq_qid1',data = df)"
      ],
      "execution_count": 51,
      "outputs": [
        {
          "output_type": "execute_result",
          "data": {
            "text/plain": [
              "<matplotlib.axes._subplots.AxesSubplot at 0x7fb5f3053110>"
            ]
          },
          "metadata": {},
          "execution_count": 51
        },
        {
          "output_type": "display_data",
          "data": {
            "image/png": "[encoded data removed]",
            "text/plain": [
              "<Figure size 864x432 with 2 Axes>"
            ]
          },
          "metadata": {
            "needs_background": "light"
          }
        }
      ]
    },
    {
      "cell_type": "markdown",
      "metadata": {
        "id": "BEW87Bbpef_4"
      },
      "source": [
        " Too much overlap :-  Poor Feature"
      ]
    },
    {
      "cell_type": "markdown",
      "metadata": {
        "id": "KSnFSu0lef_6"
      },
      "source": [
        "<h4> Feature :- freq_qid2 </h4>"
      ]
    },
    {
      "cell_type": "code",
      "metadata": {
        "execution": {
          "iopub.status.busy": "2021-09-11T06:11:28.153363Z",
          "iopub.execute_input": "2021-09-11T06:11:28.153666Z",
          "iopub.status.idle": "2021-09-11T06:11:29.766423Z",
          "shell.execute_reply.started": "2021-09-11T06:11:28.153637Z",
          "shell.execute_reply": "2021-09-11T06:11:29.765456Z"
        },
        "trusted": true,
        "id": "kkM53aJRef_7",
        "colab": {
          "base_uri": "https://localhost:8080/",
          "height": 407
        },
        "outputId": "50b9e9d2-7cb0-4d07-be24-32100943c486"
      },
      "source": [
        "plt.figure(figsize = (12,6))\n",
        "\n",
        "plt.subplot(1,2,1)\n",
        "sns.boxplot(x = 'is_duplicate',y = 'freq_qid2',data = df)\n",
        "\n",
        "plt.subplot(1,2,2)\n",
        "sns.violinplot(x = 'is_duplicate',y = 'freq_qid2',data = df)"
      ],
      "execution_count": 52,
      "outputs": [
        {
          "output_type": "execute_result",
          "data": {
            "text/plain": [
              "<matplotlib.axes._subplots.AxesSubplot at 0x7fb5ef845790>"
            ]
          },
          "metadata": {},
          "execution_count": 52
        },
        {
          "output_type": "display_data",
          "data": {
            "image/png": "[encoded data removed]",
            "text/plain": [
              "<Figure size 864x432 with 2 Axes>"
            ]
          },
          "metadata": {
            "needs_background": "light"
          }
        }
      ]
    },
    {
      "cell_type": "markdown",
      "metadata": {
        "id": "lh12pCeuef_8"
      },
      "source": [
        "Too much overlap :-  Poor Feature"
      ]
    },
    {
      "cell_type": "markdown",
      "metadata": {
        "id": "aTNRbHdTef_8"
      },
      "source": [
        "<h4> Feature :- q1len </h4>"
      ]
    },
    {
      "cell_type": "code",
      "metadata": {
        "execution": {
          "iopub.status.busy": "2021-09-11T06:11:29.767644Z",
          "iopub.execute_input": "2021-09-11T06:11:29.767952Z",
          "iopub.status.idle": "2021-09-11T06:11:31.211139Z",
          "shell.execute_reply.started": "2021-09-11T06:11:29.767921Z",
          "shell.execute_reply": "2021-09-11T06:11:31.210123Z"
        },
        "trusted": true,
        "id": "0kLa7bTjef_9",
        "colab": {
          "base_uri": "https://localhost:8080/",
          "height": 407
        },
        "outputId": "3d3fe8ba-20ff-4395-c509-98be547eca86"
      },
      "source": [
        "plt.figure(figsize = (12,6))\n",
        "\n",
        "plt.subplot(1,2,1)\n",
        "sns.boxplot(x = 'is_duplicate', y = 'q1len',data = df)\n",
        "\n",
        "plt.subplot(1,2,2)\n",
        "sns.violinplot(x = 'is_duplicate',y = 'q1len',data = df)"
      ],
      "execution_count": 53,
      "outputs": [
        {
          "output_type": "execute_result",
          "data": {
            "text/plain": [
              "<matplotlib.axes._subplots.AxesSubplot at 0x7fb5f4bca2d0>"
            ]
          },
          "metadata": {},
          "execution_count": 53
        },
        {
          "output_type": "display_data",
          "data": {
            "image/png": "[encoded data removed]",
            "text/plain": [
              "<Figure size 864x432 with 2 Axes>"
            ]
          },
          "metadata": {
            "needs_background": "light"
          }
        }
      ]
    },
    {
      "cell_type": "markdown",
      "metadata": {
        "id": "mRhN67wIef_9"
      },
      "source": [
        "<h4> Feature :- q2len2 </h4>"
      ]
    },
    {
      "cell_type": "code",
      "metadata": {
        "execution": {
          "iopub.status.busy": "2021-09-11T06:11:31.214251Z",
          "iopub.execute_input": "2021-09-11T06:11:31.214658Z",
          "iopub.status.idle": "2021-09-11T06:11:32.671943Z",
          "shell.execute_reply.started": "2021-09-11T06:11:31.214622Z",
          "shell.execute_reply": "2021-09-11T06:11:32.670930Z"
        },
        "trusted": true,
        "id": "lvTDs2U1ef_9",
        "colab": {
          "base_uri": "https://localhost:8080/",
          "height": 407
        },
        "outputId": "ce716992-9820-4694-a86c-d63ab3a59a77"
      },
      "source": [
        "plt.figure(figsize = (12,6))\n",
        "\n",
        "plt.subplot(1,2,1)\n",
        "sns.boxplot(x = 'is_duplicate', y = 'q1len',data = df)\n",
        "\n",
        "plt.subplot(1,2,2)\n",
        "sns.violinplot(x = 'is_duplicate',y = 'q1len',data = df)"
      ],
      "execution_count": 54,
      "outputs": [
        {
          "output_type": "execute_result",
          "data": {
            "text/plain": [
              "<matplotlib.axes._subplots.AxesSubplot at 0x7fb5f51c3210>"
            ]
          },
          "metadata": {},
          "execution_count": 54
        },
        {
          "output_type": "display_data",
          "data": {
            "image/png": "[encoded data removed]",
            "text/plain": [
              "<Figure size 864x432 with 2 Axes>"
            ]
          },
          "metadata": {
            "needs_background": "light"
          }
        }
      ]
    },
    {
      "cell_type": "markdown",
      "metadata": {
        "id": "53AJ4Rm2ef_-"
      },
      "source": [
        "Too much overlap :- poor feature"
      ]
    },
    {
      "cell_type": "markdown",
      "metadata": {
        "id": "nzOdstydef_-"
      },
      "source": [
        "<h4> Feature :- q1_n_words"
      ]
    },
    {
      "cell_type": "code",
      "metadata": {
        "execution": {
          "iopub.status.busy": "2021-09-11T06:11:32.673184Z",
          "iopub.execute_input": "2021-09-11T06:11:32.673493Z",
          "iopub.status.idle": "2021-09-11T06:11:34.118344Z",
          "shell.execute_reply.started": "2021-09-11T06:11:32.673462Z",
          "shell.execute_reply": "2021-09-11T06:11:34.117276Z"
        },
        "trusted": true,
        "id": "jpkWAOKXef_-",
        "colab": {
          "base_uri": "https://localhost:8080/",
          "height": 407
        },
        "outputId": "6ae23f8a-4468-4019-e7c5-9095e0e908d2"
      },
      "source": [
        "plt.figure(figsize = (12,6))\n",
        "\n",
        "plt.subplot(1,2,1)\n",
        "sns.boxplot(x = 'is_duplicate', y = 'q1_n_words',data = df)\n",
        "\n",
        "plt.subplot(1,2,2)\n",
        "sns.violinplot(x = 'is_duplicate',y = 'q1_n_words',data = df)"
      ],
      "execution_count": 55,
      "outputs": [
        {
          "output_type": "execute_result",
          "data": {
            "text/plain": [
              "<matplotlib.axes._subplots.AxesSubplot at 0x7fb5f5b60850>"
            ]
          },
          "metadata": {},
          "execution_count": 55
        },
        {
          "output_type": "display_data",
          "data": {
            "image/png": "[encoded data removed]",
            "text/plain": [
              "<Figure size 864x432 with 2 Axes>"
            ]
          },
          "metadata": {
            "needs_background": "light"
          }
        }
      ]
    },
    {
      "cell_type": "markdown",
      "metadata": {
        "id": "lkod0KOoef__"
      },
      "source": [
        "Too much overlap :- Discard the feature"
      ]
    },
    {
      "cell_type": "markdown",
      "metadata": {
        "id": "pagmkdWfef__"
      },
      "source": [
        "<h4> Feature :- q2_n_words </h4>"
      ]
    },
    {
      "cell_type": "code",
      "metadata": {
        "execution": {
          "iopub.status.busy": "2021-09-11T06:11:34.119826Z",
          "iopub.execute_input": "2021-09-11T06:11:34.120202Z",
          "iopub.status.idle": "2021-09-11T06:11:35.545142Z",
          "shell.execute_reply.started": "2021-09-11T06:11:34.120171Z",
          "shell.execute_reply": "2021-09-11T06:11:35.544070Z"
        },
        "trusted": true,
        "id": "Kp2nwYBTegAA",
        "colab": {
          "base_uri": "https://localhost:8080/",
          "height": 411
        },
        "outputId": "ba036655-59ba-494e-e244-a02c407b7b52"
      },
      "source": [
        "plt.figure(figsize = (12,6))\n",
        "\n",
        "plt.subplot(1,2,1)\n",
        "sns.boxplot(x = 'is_duplicate', y = 'q2_n_words',data = df)\n",
        "\n",
        "plt.subplot(1,2,2)\n",
        "sns.violinplot(x = 'is_duplicate',y = 'q2_n_words',data = df)"
      ],
      "execution_count": 56,
      "outputs": [
        {
          "output_type": "execute_result",
          "data": {
            "text/plain": [
              "<matplotlib.axes._subplots.AxesSubplot at 0x7fb5f668ee10>"
            ]
          },
          "metadata": {},
          "execution_count": 56
        },
        {
          "output_type": "display_data",
          "data": {
            "image/png": "[encoded data removed]",
            "text/plain": [
              "<Figure size 864x432 with 2 Axes>"
            ]
          },
          "metadata": {
            "needs_background": "light"
          }
        }
      ]
    },
    {
      "cell_type": "markdown",
      "metadata": {
        "id": "iIrvhrYmegAB"
      },
      "source": [
        "Too much overlap :- Discard the feature"
      ]
    },
    {
      "cell_type": "markdown",
      "metadata": {
        "id": "Xr-7IMD8egAC"
      },
      "source": [
        "<h4> Feature :- word_Total </h4>"
      ]
    },
    {
      "cell_type": "code",
      "metadata": {
        "execution": {
          "iopub.status.busy": "2021-09-11T06:11:35.546389Z",
          "iopub.execute_input": "2021-09-11T06:11:35.546683Z",
          "iopub.status.idle": "2021-09-11T06:11:36.997122Z",
          "shell.execute_reply.started": "2021-09-11T06:11:35.546653Z",
          "shell.execute_reply": "2021-09-11T06:11:36.995982Z"
        },
        "trusted": true,
        "id": "qLAKa4OiegAD",
        "colab": {
          "base_uri": "https://localhost:8080/",
          "height": 409
        },
        "outputId": "4f062e89-7a90-46d4-bd6a-641fe2fd5eda"
      },
      "source": [
        "plt.figure(figsize = (12,6))\n",
        "\n",
        "plt.subplot(1,2,1)\n",
        "sns.boxplot(x = 'is_duplicate', y = 'word_Total',data = df)\n",
        "\n",
        "plt.subplot(1,2,2)\n",
        "sns.violinplot(x = 'is_duplicate',y = 'word_Total',data = df)"
      ],
      "execution_count": 57,
      "outputs": [
        {
          "output_type": "execute_result",
          "data": {
            "text/plain": [
              "<matplotlib.axes._subplots.AxesSubplot at 0x7fb5f4068e90>"
            ]
          },
          "metadata": {},
          "execution_count": 57
        },
        {
          "output_type": "display_data",
          "data": {
            "image/png": "[encoded data removed]",
            "text/plain": [
              "<Figure size 864x432 with 2 Axes>"
            ]
          },
          "metadata": {
            "needs_background": "light"
          }
        }
      ]
    },
    {
      "cell_type": "markdown",
      "metadata": {
        "id": "CobkfDEBegAE"
      },
      "source": [
        "Too much overlap :- Discard the feature"
      ]
    },
    {
      "cell_type": "markdown",
      "metadata": {
        "id": "f99xTVnFegAE"
      },
      "source": [
        "<h4> Feature :- freq_q1+q2 </h4>"
      ]
    },
    {
      "cell_type": "code",
      "metadata": {
        "execution": {
          "iopub.status.busy": "2021-09-11T06:11:36.999125Z",
          "iopub.execute_input": "2021-09-11T06:11:36.999571Z",
          "iopub.status.idle": "2021-09-11T06:11:38.601222Z",
          "shell.execute_reply.started": "2021-09-11T06:11:36.999526Z",
          "shell.execute_reply": "2021-09-11T06:11:38.600333Z"
        },
        "trusted": true,
        "id": "QTZiOYAaegAE",
        "colab": {
          "base_uri": "https://localhost:8080/",
          "height": 407
        },
        "outputId": "e8fa97d8-f0f7-4e2f-b342-0579889ef149"
      },
      "source": [
        "plt.figure(figsize = (12,6))\n",
        "\n",
        "plt.subplot(1,2,1)\n",
        "sns.boxplot(x = 'is_duplicate', y = 'freq_q1+q2',data = df)\n",
        "\n",
        "plt.subplot(1,2,2)\n",
        "sns.violinplot(x = 'is_duplicate',y = 'freq_q1+q2',data = df)"
      ],
      "execution_count": 58,
      "outputs": [
        {
          "output_type": "execute_result",
          "data": {
            "text/plain": [
              "<matplotlib.axes._subplots.AxesSubplot at 0x7fb5f465f7d0>"
            ]
          },
          "metadata": {},
          "execution_count": 58
        },
        {
          "output_type": "display_data",
          "data": {
            "image/png": "[encoded data removed]",
            "text/plain": [
              "<Figure size 864x432 with 2 Axes>"
            ]
          },
          "metadata": {
            "needs_background": "light"
          }
        }
      ]
    },
    {
      "cell_type": "markdown",
      "metadata": {
        "id": "W9KlFVDkegAF"
      },
      "source": [
        "Too much overlaping :- Discard the feature"
      ]
    },
    {
      "cell_type": "markdown",
      "metadata": {
        "id": "Xt5cXdUMegAF"
      },
      "source": [
        "<h4> Feature :- freq_q1-q2 </h4>"
      ]
    },
    {
      "cell_type": "code",
      "metadata": {
        "execution": {
          "iopub.status.busy": "2021-09-11T06:11:38.602458Z",
          "iopub.execute_input": "2021-09-11T06:11:38.603039Z",
          "iopub.status.idle": "2021-09-11T06:11:40.156525Z",
          "shell.execute_reply.started": "2021-09-11T06:11:38.602979Z",
          "shell.execute_reply": "2021-09-11T06:11:40.155728Z"
        },
        "trusted": true,
        "id": "Ca-QsRt4egAF",
        "outputId": "4dac400b-281e-4924-c687-55482106b09c"
      },
      "source": [
        "plt.figure(figsize = (12,6))\n",
        "\n",
        "plt.subplot(1,2,1)\n",
        "sns.boxplot(x = 'is_duplicate', y = 'freq_q1-q2',data = df)\n",
        "\n",
        "plt.subplot(1,2,2)\n",
        "sns.violinplot(x = 'is_duplicate',y = 'freq_q1-q2',data = df)"
      ],
      "execution_count": null,
      "outputs": [
        {
          "output_type": "execute_result",
          "data": {
            "text/plain": [
              "<AxesSubplot:xlabel='is_duplicate', ylabel='freq_q1-q2'>"
            ]
          },
          "metadata": {},
          "execution_count": 183
        },
        {
          "output_type": "display_data",
          "data": {
            "image/png": "[encoded data removed]",
            "text/plain": [
              "<Figure size 864x432 with 2 Axes>"
            ]
          },
          "metadata": {
            "needs_background": "light"
          }
        }
      ]
    },
    {
      "cell_type": "markdown",
      "metadata": {
        "id": "pf6Vv8TqegAG"
      },
      "source": [
        "Too much overlap :- Discard the feature"
      ]
    },
    {
      "cell_type": "markdown",
      "metadata": {
        "id": "W8PbXNS_egAI"
      },
      "source": [
        "<h4> word_share is the only useful feature from our designed features </h4>"
      ]
    },
    {
      "cell_type": "code",
      "metadata": {
        "id": "nI0MLqTk6sk3"
      },
      "source": [
        ""
      ],
      "execution_count": null,
      "outputs": []
    }
  ]
}
